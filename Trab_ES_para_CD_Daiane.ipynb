{
  "cells": [
    {
      "cell_type": "markdown",
      "metadata": {
        "id": "view-in-github",
        "colab_type": "text"
      },
      "source": [
        "<a href=\"https://colab.research.google.com/github/Daiane-Macedo/Data_Science_PUC/blob/master/Trab_ES_para_CD_Daiane.ipynb\" target=\"_parent\"><img src=\"https://colab.research.google.com/assets/colab-badge.svg\" alt=\"Open In Colab\"/></a>"
      ]
    },
    {
      "cell_type": "markdown",
      "metadata": {
        "id": "iKWGbqf_MpOV"
      },
      "source": [
        "# Engenharia de Software para Ciência de Dados - PUC-Rio\n",
        "**Aluna**: Daiane Santos de Macedo\n",
        "\n",
        "**GitHub**: https://github.com/Daiane-Macedo/Data_Science_PUC/"
      ]
    },
    {
      "cell_type": "code",
      "execution_count": 1,
      "metadata": {
        "id": "LyNG8wl6wZa4"
      },
      "outputs": [],
      "source": [
        "# configuração para não exibir os warnings\n",
        "import warnings\n",
        "warnings.filterwarnings(\"ignore\")\n",
        "\n",
        "# Importação de pacotes\n",
        "import pandas as pd\n",
        "import numpy as np\n",
        "import matplotlib.pyplot as plt\n",
        "import seaborn as sns\n",
        "from matplotlib import cm\n",
        "from prettytable import PrettyTable\n",
        "from google.colab import drive\n",
        "from imblearn.over_sampling import RandomOverSampler\n",
        "from collections import Counter\n",
        "\n",
        "\n",
        "from sklearn.preprocessing import OrdinalEncoder\n",
        "from sklearn.preprocessing import OneHotEncoder\n",
        "from sklearn.preprocessing import MinMaxScaler\n",
        "from sklearn.preprocessing import StandardScaler\n",
        "from sklearn.model_selection import train_test_split\n",
        "from sklearn.model_selection import KFold\n",
        "from sklearn.model_selection import cross_val_score\n",
        "from sklearn.model_selection import GridSearchCV\n",
        "from sklearn.metrics import classification_report\n",
        "from sklearn.metrics import confusion_matrix\n",
        "from sklearn.metrics import accuracy_score\n",
        "from sklearn.pipeline import Pipeline\n",
        "from sklearn.linear_model import LogisticRegression\n",
        "from sklearn.tree import DecisionTreeClassifier\n",
        "from sklearn.neighbors import KNeighborsClassifier\n",
        "from sklearn.naive_bayes import GaussianNB\n",
        "from sklearn.svm import SVC\n",
        "from sklearn.ensemble import AdaBoostClassifier\n",
        "from sklearn.ensemble import GradientBoostingClassifier\n",
        "from sklearn.ensemble import RandomForestClassifier\n",
        "from sklearn.ensemble import ExtraTreesClassifier"
      ]
    },
    {
      "cell_type": "markdown",
      "metadata": {
        "id": "YNIMvHteldiX"
      },
      "source": [
        "# Descrição do problema e Requisitos\n",
        "### User story\n",
        "**Como** dretora de duas escolas, **quero** prever se os alunos serão aprovados em Matemática no final do ano letivo (nota final igual ou maior que 10).\n",
        "O objetivo é identificar alunos com altas probabilidades de reprovação **para** prestar um auxilio prévio a esses estudantes. Além de, durante as análises, idenficar fatores sociais que possam influenciar no rendimento acadêmico do aluno.\n",
        "\n"
      ]
    },
    {
      "cell_type": "markdown",
      "metadata": {
        "id": "mvLtifRbKDyA"
      },
      "source": [
        "# Introdução ao dataset\n",
        "\n",
        "Os dados abordam o desempenho de alunos no ensino secundário de duas escolas portuguesas. Os atributos dos dados incluem notas dos alunos, características demográficas, sociais e relacionadas à escola, e foram coletados por meio de relatórios e questionários escolares. São fornecidos dois conjuntos de dados relativos ao desempenho em duas disciplinas distintas: Matemática (mat) e Língua Portuguesa (por), porém nessa análise serão considerados apenas os dados de matemática.\n",
        "Obs: o atributo alvo G3 tem uma forte correlação com os atributos G2 e G1. Isso ocorre porque G3 é a nota final do ano (emitido no 3º período), enquanto G1 e G2 correspondem às notas do 1º e 2º período. É mais difícil prever G3 sem G2 e G1, mas essa previsão é muito mais útil. "
      ]
    },
    {
      "cell_type": "markdown",
      "metadata": {
        "id": "8hMOVFYyv4QU"
      },
      "source": [
        "### 2.1. Descrição dos atributos\n"
      ]
    },
    {
      "cell_type": "code",
      "execution_count": 2,
      "metadata": {
        "colab": {
          "base_uri": "https://localhost:8080/"
        },
        "id": "_rKu3_59v9YH",
        "outputId": "6f1f100a-82d9-4861-9f56-cc52c0d1a76f"
      },
      "outputs": [
        {
          "output_type": "stream",
          "name": "stdout",
          "text": [
            "+----------------+---------+----------------------------------------------+--------------------------------------------------------------------------------------------------------------------+\n",
            "|   Atributtes   |   Type  |                  Definition                  |                                                       Values                                                       |\n",
            "+----------------+---------+----------------------------------------------+--------------------------------------------------------------------------------------------------------------------+\n",
            "|     school     |  Binary |               Student's school               |                                  GP - Gabriel Pereira or MS - Mousinho da Silveira                                 |\n",
            "+----------------+---------+----------------------------------------------+--------------------------------------------------------------------------------------------------------------------+\n",
            "|      sex       |  Binary |                Student's sex                 |                                               F - female or M - male                                               |\n",
            "+----------------+---------+----------------------------------------------+--------------------------------------------------------------------------------------------------------------------+\n",
            "|      age       | Numeric |                Student's age                 |                                                   from 15 to 22                                                    |\n",
            "+----------------+---------+----------------------------------------------+--------------------------------------------------------------------------------------------------------------------+\n",
            "|    address     |  Binary |         Student's home address type          |                                               U - urban or R - rural                                               |\n",
            "+----------------+---------+----------------------------------------------+--------------------------------------------------------------------------------------------------------------------+\n",
            "|    fam_size    |  Binary |                 Family size                  |                                'LE3' - less or equal to 3 or 'GT3' - greater than 3                                |\n",
            "+----------------+---------+----------------------------------------------+--------------------------------------------------------------------------------------------------------------------+\n",
            "| parents_status |  Binary |         Parent's cohabitation status         |                                        'T' - living together or 'A' - apart                                        |\n",
            "+----------------+---------+----------------------------------------------+--------------------------------------------------------------------------------------------------------------------+\n",
            "|   mother_edu   | Numeric |              Mother's education              | 0 - none, 1 - primary education (4th grade), 2 - 5th to 9th grade, 3 - secondary education or 4 - higher education |\n",
            "+----------------+---------+----------------------------------------------+--------------------------------------------------------------------------------------------------------------------+\n",
            "|   father_edu   | Numeric |              Father's education              | 0 - none, 1 - primary education (4th grade), 2 - 5th to 9th grade, 3 - secondary education or 4 - higher education |\n",
            "+----------------+---------+----------------------------------------------+--------------------------------------------------------------------------------------------------------------------+\n",
            "|   mother_job   | Nominal |                 Mother's job                 |      'teacher', 'health' care related, civil 'services' (e.g. administrative or police), 'at_home' or 'other'      |\n",
            "+----------------+---------+----------------------------------------------+--------------------------------------------------------------------------------------------------------------------+\n",
            "|   father_job   | Nominal |                 Father's job                 |      'teacher', 'health' care related, civil 'services' (e.g. administrative or police), 'at_home' or 'other'      |\n",
            "+----------------+---------+----------------------------------------------+--------------------------------------------------------------------------------------------------------------------+\n",
            "|     reason     | Nominal |         Reason to choose this school         |                        Close to 'home', school 'reputation', 'course' preference or 'other'                        |\n",
            "+----------------+---------+----------------------------------------------+--------------------------------------------------------------------------------------------------------------------+\n",
            "|    guardian    | Nominal |              Student's guardian              |                                           'mother', 'father' or 'other'                                            |\n",
            "+----------------+---------+----------------------------------------------+--------------------------------------------------------------------------------------------------------------------+\n",
            "|  travel_time   | Numeric |          Home to school travel time          |                       1 - <15 min., 2 - 15 to 30 min., 3 - 30 min. to 1 hour, or 4 - >1 hour                       |\n",
            "+----------------+---------+----------------------------------------------+--------------------------------------------------------------------------------------------------------------------+\n",
            "|   study_time   | Numeric |              Weekly study time               |                        1 - <2 hours, 2 - 2 to 5 hours, 3 - 5 to 10 hours, or 4 - >10 hours                         |\n",
            "+----------------+---------+----------------------------------------------+--------------------------------------------------------------------------------------------------------------------+\n",
            "|    failures    | Numeric |        Number of past class failures         |                                                n if 1<=n<3, else 4)                                                |\n",
            "+----------------+---------+----------------------------------------------+--------------------------------------------------------------------------------------------------------------------+\n",
            "|   school_sup   |  Binary |          Extra educational support           |                                                     Yes or no                                                      |\n",
            "+----------------+---------+----------------------------------------------+--------------------------------------------------------------------------------------------------------------------+\n",
            "|   family_sup   |  Binary |          Family educational support          |                                                     Yes or no                                                      |\n",
            "+----------------+---------+----------------------------------------------+--------------------------------------------------------------------------------------------------------------------+\n",
            "|      paid      |  Binary | Extra paid classes within the course subject |                                                     Yes or no                                                      |\n",
            "+----------------+---------+----------------------------------------------+--------------------------------------------------------------------------------------------------------------------+\n",
            "|   activities   |  Binary |         Extra cuurricular activities         |                                                     Yes or no                                                      |\n",
            "+----------------+---------+----------------------------------------------+--------------------------------------------------------------------------------------------------------------------+\n",
            "|    nursery     |  Binary |           Attended nursery school            |                                                     Yes or no                                                      |\n",
            "+----------------+---------+----------------------------------------------+--------------------------------------------------------------------------------------------------------------------+\n",
            "|     higher     |  Binary |        Wants to take higher education        |                                                     Yes or no                                                      |\n",
            "+----------------+---------+----------------------------------------------+--------------------------------------------------------------------------------------------------------------------+\n",
            "|    internet    |  Binary |           Internet access at home            |                                                     ess or no                                                      |\n",
            "+----------------+---------+----------------------------------------------+--------------------------------------------------------------------------------------------------------------------+\n",
            "|    romantic    |  Binary |         With a romantic relationship         |                                                     Yes or no                                                      |\n",
            "+----------------+---------+----------------------------------------------+--------------------------------------------------------------------------------------------------------------------+\n",
            "|   family_rel   | Numeric |       Quality of family relationships        |                                         From 1 - very bad to 5 - excellent                                         |\n",
            "+----------------+---------+----------------------------------------------+--------------------------------------------------------------------------------------------------------------------+\n",
            "|   free_time    | Numeric |            Free time after school            |                                         From 1 - very bad to 5 - very high                                         |\n",
            "+----------------+---------+----------------------------------------------+--------------------------------------------------------------------------------------------------------------------+\n",
            "|     go_out     | Numeric |            Going out with friends            |                                         From 1 - very bad to 5 - very high                                         |\n",
            "+----------------+---------+----------------------------------------------+--------------------------------------------------------------------------------------------------------------------+\n",
            "|    d_alcool    | Numeric |         Workday alcohol consumption          |                                         From 1 - very bad to 5 - very high                                         |\n",
            "+----------------+---------+----------------------------------------------+--------------------------------------------------------------------------------------------------------------------+\n",
            "|    w_alcool    | Numeric |         Weekend alcohol consumption          |                                         From 1 - very bad to 5 - very high                                         |\n",
            "+----------------+---------+----------------------------------------------+--------------------------------------------------------------------------------------------------------------------+\n",
            "|     health     | Numeric |            Current health status             |                                         From 1 - very bad to 5 - very good                                         |\n",
            "+----------------+---------+----------------------------------------------+--------------------------------------------------------------------------------------------------------------------+\n",
            "|    absences    | Numeric |          Number of school absences           |                                                    From 0 to 93                                                    |\n",
            "+----------------+---------+----------------------------------------------+--------------------------------------------------------------------------------------------------------------------+\n"
          ]
        }
      ],
      "source": [
        "# Informa o cabeçalho das colunas\n",
        "atributos = ['school', 'sex', 'age', 'address', 'fam_size', 'parents_status', 'mother_edu', 'father_edu', 'mother_job', 'father_job', 'reason',\n",
        "             'guardian', 'travel_time', 'study_time', 'failures', 'school_sup', 'family_sup', 'paid', 'activities', 'nursery', 'higher', 'internet',\n",
        "             'romantic', 'family_rel', 'free_time', 'go_out', 'd_alcool', 'w_alcool', 'health', 'absences', 'G1', 'G2', 'G3']\n",
        "\n",
        "table = PrettyTable()\n",
        "#formata tabela com linha horizontal\n",
        "table.hrules = 1\n",
        "\n",
        "table.field_names = ('Atributtes', 'Type', 'Definition', 'Values')\n",
        "table.add_rows([\n",
        "                [atributos[0], \"Binary\",\"Student's school\", \" GP - Gabriel Pereira or MS - Mousinho da Silveira\"],\n",
        "                [atributos[1], \"Binary\", \"Student's sex\", \" F - female or M - male\"],\n",
        "                [atributos[2], \"Numeric\", \"Student's age\", \"from 15 to 22\"],\n",
        "                [atributos[3], \"Binary\", \"Student's home address type\", \"U - urban or R - rural\"],\n",
        "                [atributos[4], \"Binary\", \"Family size\", \"'LE3' - less or equal to 3 or 'GT3' - greater than 3\"],\n",
        "                [atributos[5], \"Binary\", \"Parent's cohabitation status\", \"'T' - living together or 'A' - apart\"],\n",
        "                [atributos[6], \"Numeric\", \"Mother's education\", \"0 - none, 1 - primary education (4th grade), 2 - 5th to 9th grade, 3 - secondary education or 4 - higher education\"],\n",
        "                [atributos[7], \"Numeric\", \"Father's education\", \"0 - none, 1 - primary education (4th grade), 2 - 5th to 9th grade, 3 - secondary education or 4 - higher education\"],\n",
        "                [atributos[8], \"Nominal\", \"Mother's job\", \"'teacher', 'health' care related, civil 'services' (e.g. administrative or police), 'at_home' or 'other'\"],\n",
        "                [atributos[9], \"Nominal\", \"Father's job\", \"'teacher', 'health' care related, civil 'services' (e.g. administrative or police), 'at_home' or 'other'\"],\n",
        "                [atributos[10], \"Nominal\", \"Reason to choose this school\", \"Close to 'home', school 'reputation', 'course' preference or 'other'\"],\n",
        "                [atributos[11], \"Nominal\", \"Student's guardian\", \"'mother', 'father' or 'other'\"],\n",
        "                [atributos[12], \"Numeric\", \"Home to school travel time\", \"1 - <15 min., 2 - 15 to 30 min., 3 - 30 min. to 1 hour, or 4 - >1 hour\"],\n",
        "                [atributos[13], \"Numeric\", \"Weekly study time\", \"1 - <2 hours, 2 - 2 to 5 hours, 3 - 5 to 10 hours, or 4 - >10 hours\"],\n",
        "                [atributos[14], \"Numeric\", \"Number of past class failures\", \"n if 1<=n<3, else 4)\"],\n",
        "                [atributos[15], \"Binary\", \"Extra educational support\", \"Yes or no\"],\n",
        "                [atributos[16], \"Binary\", \"Family educational support\", \"Yes or no\"],\n",
        "                [atributos[17], \"Binary\", \"Extra paid classes within the course subject\", \"Yes or no\"],\n",
        "                [atributos[18], \"Binary\", \"Extra cuurricular activities\", \"Yes or no\"],\n",
        "                [atributos[19], \"Binary\", \"Attended nursery school\", \"Yes or no\"],\n",
        "                [atributos[20], \"Binary\", \"Wants to take higher education\", \"Yes or no\"],\n",
        "                [atributos[21], \"Binary\", \"Internet access at home\", \"ess or no\"],\n",
        "                [atributos[22], \"Binary\", \"With a romantic relationship\", \"Yes or no\"],\n",
        "                [atributos[23], \"Numeric\", \"Quality of family relationships\", \"From 1 - very bad to 5 - excellent\"],\n",
        "                [atributos[24], \"Numeric\", \"Free time after school\", \"From 1 - very bad to 5 - very high\"],\n",
        "                [atributos[25], \"Numeric\", \"Going out with friends\", \"From 1 - very bad to 5 - very high\"],\n",
        "                [atributos[26], \"Numeric\", \"Workday alcohol consumption\", \"From 1 - very bad to 5 - very high\"],\n",
        "                [atributos[27], \"Numeric\", \"Weekend alcohol consumption\", \"From 1 - very bad to 5 - very high\"],\n",
        "                [atributos[28], \"Numeric\", \"Current health status\", \"From 1 - very bad to 5 - very good\"],\n",
        "                [atributos[29], \"Numeric\", \"Number of school absences\", \"From 0 to 93\"]\n",
        "                \n",
        "              ])\n",
        "\n",
        "print(table)"
      ]
    },
    {
      "cell_type": "code",
      "execution_count": 3,
      "metadata": {
        "id": "cFE_0aBrwHdL"
      },
      "outputs": [],
      "source": [
        "data = pd.read_csv('sample_data/student-mat.csv', names=atributos, skiprows=1, delimiter=';')\n"
      ]
    },
    {
      "cell_type": "markdown",
      "metadata": {
        "id": "M4VxLCqsiC9K"
      },
      "source": [
        "# Análise Exploratória de dados"
      ]
    },
    {
      "cell_type": "markdown",
      "metadata": {
        "id": "U1kvrXxcZmhg"
      },
      "source": [
        "## 3.1. Informações Gerais"
      ]
    },
    {
      "cell_type": "code",
      "execution_count": 4,
      "metadata": {
        "colab": {
          "base_uri": "https://localhost:8080/"
        },
        "id": "7QY7Se13OIWW",
        "outputId": "18b276d0-6aa4-4e2c-8c14-e268400f400c"
      },
      "outputs": [
        {
          "output_type": "execute_result",
          "data": {
            "text/plain": [
              "school            object\n",
              "sex               object\n",
              "age                int64\n",
              "address           object\n",
              "fam_size          object\n",
              "parents_status    object\n",
              "mother_edu         int64\n",
              "father_edu         int64\n",
              "mother_job        object\n",
              "father_job        object\n",
              "reason            object\n",
              "guardian          object\n",
              "travel_time        int64\n",
              "study_time         int64\n",
              "failures           int64\n",
              "school_sup        object\n",
              "family_sup        object\n",
              "paid              object\n",
              "activities        object\n",
              "nursery           object\n",
              "higher            object\n",
              "internet          object\n",
              "romantic          object\n",
              "family_rel         int64\n",
              "free_time          int64\n",
              "go_out             int64\n",
              "d_alcool           int64\n",
              "w_alcool           int64\n",
              "health             int64\n",
              "absences           int64\n",
              "G1                 int64\n",
              "G2                 int64\n",
              "G3                 int64\n",
              "dtype: object"
            ]
          },
          "metadata": {},
          "execution_count": 4
        }
      ],
      "source": [
        "# verificando os tipos de cada coluna\n",
        "data.dtypes"
      ]
    },
    {
      "cell_type": "code",
      "execution_count": 5,
      "metadata": {
        "colab": {
          "base_uri": "https://localhost:8080/",
          "height": 207
        },
        "id": "LBTty78kO9Yj",
        "outputId": "b2d33ef3-2da8-4127-dcde-6718f03e643a"
      },
      "outputs": [
        {
          "output_type": "execute_result",
          "data": {
            "text/html": [
              "\n",
              "  <div id=\"df-741aeed1-c1a9-4c0e-aa58-30635eb0bae1\">\n",
              "    <div class=\"colab-df-container\">\n",
              "      <div>\n",
              "<style scoped>\n",
              "    .dataframe tbody tr th:only-of-type {\n",
              "        vertical-align: middle;\n",
              "    }\n",
              "\n",
              "    .dataframe tbody tr th {\n",
              "        vertical-align: top;\n",
              "    }\n",
              "\n",
              "    .dataframe thead th {\n",
              "        text-align: right;\n",
              "    }\n",
              "</style>\n",
              "<table border=\"1\" class=\"dataframe\">\n",
              "  <thead>\n",
              "    <tr style=\"text-align: right;\">\n",
              "      <th></th>\n",
              "      <th>school</th>\n",
              "      <th>sex</th>\n",
              "      <th>age</th>\n",
              "      <th>address</th>\n",
              "      <th>fam_size</th>\n",
              "      <th>parents_status</th>\n",
              "      <th>mother_edu</th>\n",
              "      <th>father_edu</th>\n",
              "      <th>mother_job</th>\n",
              "      <th>father_job</th>\n",
              "      <th>reason</th>\n",
              "      <th>guardian</th>\n",
              "      <th>travel_time</th>\n",
              "      <th>study_time</th>\n",
              "      <th>failures</th>\n",
              "      <th>school_sup</th>\n",
              "      <th>family_sup</th>\n",
              "      <th>paid</th>\n",
              "      <th>activities</th>\n",
              "      <th>nursery</th>\n",
              "      <th>higher</th>\n",
              "      <th>internet</th>\n",
              "      <th>romantic</th>\n",
              "      <th>family_rel</th>\n",
              "      <th>free_time</th>\n",
              "      <th>go_out</th>\n",
              "      <th>d_alcool</th>\n",
              "      <th>w_alcool</th>\n",
              "      <th>health</th>\n",
              "      <th>absences</th>\n",
              "      <th>G1</th>\n",
              "      <th>G2</th>\n",
              "      <th>G3</th>\n",
              "    </tr>\n",
              "  </thead>\n",
              "  <tbody>\n",
              "    <tr>\n",
              "      <th>0</th>\n",
              "      <td>GP</td>\n",
              "      <td>F</td>\n",
              "      <td>18</td>\n",
              "      <td>U</td>\n",
              "      <td>GT3</td>\n",
              "      <td>A</td>\n",
              "      <td>4</td>\n",
              "      <td>4</td>\n",
              "      <td>at_home</td>\n",
              "      <td>teacher</td>\n",
              "      <td>course</td>\n",
              "      <td>mother</td>\n",
              "      <td>2</td>\n",
              "      <td>2</td>\n",
              "      <td>0</td>\n",
              "      <td>yes</td>\n",
              "      <td>no</td>\n",
              "      <td>no</td>\n",
              "      <td>no</td>\n",
              "      <td>yes</td>\n",
              "      <td>yes</td>\n",
              "      <td>no</td>\n",
              "      <td>no</td>\n",
              "      <td>4</td>\n",
              "      <td>3</td>\n",
              "      <td>4</td>\n",
              "      <td>1</td>\n",
              "      <td>1</td>\n",
              "      <td>3</td>\n",
              "      <td>6</td>\n",
              "      <td>5</td>\n",
              "      <td>6</td>\n",
              "      <td>6</td>\n",
              "    </tr>\n",
              "    <tr>\n",
              "      <th>1</th>\n",
              "      <td>GP</td>\n",
              "      <td>F</td>\n",
              "      <td>17</td>\n",
              "      <td>U</td>\n",
              "      <td>GT3</td>\n",
              "      <td>T</td>\n",
              "      <td>1</td>\n",
              "      <td>1</td>\n",
              "      <td>at_home</td>\n",
              "      <td>other</td>\n",
              "      <td>course</td>\n",
              "      <td>father</td>\n",
              "      <td>1</td>\n",
              "      <td>2</td>\n",
              "      <td>0</td>\n",
              "      <td>no</td>\n",
              "      <td>yes</td>\n",
              "      <td>no</td>\n",
              "      <td>no</td>\n",
              "      <td>no</td>\n",
              "      <td>yes</td>\n",
              "      <td>yes</td>\n",
              "      <td>no</td>\n",
              "      <td>5</td>\n",
              "      <td>3</td>\n",
              "      <td>3</td>\n",
              "      <td>1</td>\n",
              "      <td>1</td>\n",
              "      <td>3</td>\n",
              "      <td>4</td>\n",
              "      <td>5</td>\n",
              "      <td>5</td>\n",
              "      <td>6</td>\n",
              "    </tr>\n",
              "    <tr>\n",
              "      <th>2</th>\n",
              "      <td>GP</td>\n",
              "      <td>F</td>\n",
              "      <td>15</td>\n",
              "      <td>U</td>\n",
              "      <td>LE3</td>\n",
              "      <td>T</td>\n",
              "      <td>1</td>\n",
              "      <td>1</td>\n",
              "      <td>at_home</td>\n",
              "      <td>other</td>\n",
              "      <td>other</td>\n",
              "      <td>mother</td>\n",
              "      <td>1</td>\n",
              "      <td>2</td>\n",
              "      <td>3</td>\n",
              "      <td>yes</td>\n",
              "      <td>no</td>\n",
              "      <td>yes</td>\n",
              "      <td>no</td>\n",
              "      <td>yes</td>\n",
              "      <td>yes</td>\n",
              "      <td>yes</td>\n",
              "      <td>no</td>\n",
              "      <td>4</td>\n",
              "      <td>3</td>\n",
              "      <td>2</td>\n",
              "      <td>2</td>\n",
              "      <td>3</td>\n",
              "      <td>3</td>\n",
              "      <td>10</td>\n",
              "      <td>7</td>\n",
              "      <td>8</td>\n",
              "      <td>10</td>\n",
              "    </tr>\n",
              "  </tbody>\n",
              "</table>\n",
              "</div>\n",
              "      <button class=\"colab-df-convert\" onclick=\"convertToInteractive('df-741aeed1-c1a9-4c0e-aa58-30635eb0bae1')\"\n",
              "              title=\"Convert this dataframe to an interactive table.\"\n",
              "              style=\"display:none;\">\n",
              "        \n",
              "  <svg xmlns=\"http://www.w3.org/2000/svg\" height=\"24px\"viewBox=\"0 0 24 24\"\n",
              "       width=\"24px\">\n",
              "    <path d=\"M0 0h24v24H0V0z\" fill=\"none\"/>\n",
              "    <path d=\"M18.56 5.44l.94 2.06.94-2.06 2.06-.94-2.06-.94-.94-2.06-.94 2.06-2.06.94zm-11 1L8.5 8.5l.94-2.06 2.06-.94-2.06-.94L8.5 2.5l-.94 2.06-2.06.94zm10 10l.94 2.06.94-2.06 2.06-.94-2.06-.94-.94-2.06-.94 2.06-2.06.94z\"/><path d=\"M17.41 7.96l-1.37-1.37c-.4-.4-.92-.59-1.43-.59-.52 0-1.04.2-1.43.59L10.3 9.45l-7.72 7.72c-.78.78-.78 2.05 0 2.83L4 21.41c.39.39.9.59 1.41.59.51 0 1.02-.2 1.41-.59l7.78-7.78 2.81-2.81c.8-.78.8-2.07 0-2.86zM5.41 20L4 18.59l7.72-7.72 1.47 1.35L5.41 20z\"/>\n",
              "  </svg>\n",
              "      </button>\n",
              "      \n",
              "  <style>\n",
              "    .colab-df-container {\n",
              "      display:flex;\n",
              "      flex-wrap:wrap;\n",
              "      gap: 12px;\n",
              "    }\n",
              "\n",
              "    .colab-df-convert {\n",
              "      background-color: #E8F0FE;\n",
              "      border: none;\n",
              "      border-radius: 50%;\n",
              "      cursor: pointer;\n",
              "      display: none;\n",
              "      fill: #1967D2;\n",
              "      height: 32px;\n",
              "      padding: 0 0 0 0;\n",
              "      width: 32px;\n",
              "    }\n",
              "\n",
              "    .colab-df-convert:hover {\n",
              "      background-color: #E2EBFA;\n",
              "      box-shadow: 0px 1px 2px rgba(60, 64, 67, 0.3), 0px 1px 3px 1px rgba(60, 64, 67, 0.15);\n",
              "      fill: #174EA6;\n",
              "    }\n",
              "\n",
              "    [theme=dark] .colab-df-convert {\n",
              "      background-color: #3B4455;\n",
              "      fill: #D2E3FC;\n",
              "    }\n",
              "\n",
              "    [theme=dark] .colab-df-convert:hover {\n",
              "      background-color: #434B5C;\n",
              "      box-shadow: 0px 1px 3px 1px rgba(0, 0, 0, 0.15);\n",
              "      filter: drop-shadow(0px 1px 2px rgba(0, 0, 0, 0.3));\n",
              "      fill: #FFFFFF;\n",
              "    }\n",
              "  </style>\n",
              "\n",
              "      <script>\n",
              "        const buttonEl =\n",
              "          document.querySelector('#df-741aeed1-c1a9-4c0e-aa58-30635eb0bae1 button.colab-df-convert');\n",
              "        buttonEl.style.display =\n",
              "          google.colab.kernel.accessAllowed ? 'block' : 'none';\n",
              "\n",
              "        async function convertToInteractive(key) {\n",
              "          const element = document.querySelector('#df-741aeed1-c1a9-4c0e-aa58-30635eb0bae1');\n",
              "          const dataTable =\n",
              "            await google.colab.kernel.invokeFunction('convertToInteractive',\n",
              "                                                     [key], {});\n",
              "          if (!dataTable) return;\n",
              "\n",
              "          const docLinkHtml = 'Like what you see? Visit the ' +\n",
              "            '<a target=\"_blank\" href=https://colab.research.google.com/notebooks/data_table.ipynb>data table notebook</a>'\n",
              "            + ' to learn more about interactive tables.';\n",
              "          element.innerHTML = '';\n",
              "          dataTable['output_type'] = 'display_data';\n",
              "          await google.colab.output.renderOutput(dataTable, element);\n",
              "          const docLink = document.createElement('div');\n",
              "          docLink.innerHTML = docLinkHtml;\n",
              "          element.appendChild(docLink);\n",
              "        }\n",
              "      </script>\n",
              "    </div>\n",
              "  </div>\n",
              "  "
            ],
            "text/plain": [
              "  school sex  age address fam_size parents_status  mother_edu  father_edu  \\\n",
              "0     GP   F   18       U      GT3              A           4           4   \n",
              "1     GP   F   17       U      GT3              T           1           1   \n",
              "2     GP   F   15       U      LE3              T           1           1   \n",
              "\n",
              "  mother_job father_job  reason guardian  travel_time  study_time  failures  \\\n",
              "0    at_home    teacher  course   mother            2           2         0   \n",
              "1    at_home      other  course   father            1           2         0   \n",
              "2    at_home      other   other   mother            1           2         3   \n",
              "\n",
              "  school_sup family_sup paid activities nursery higher internet romantic  \\\n",
              "0        yes         no   no         no     yes    yes       no       no   \n",
              "1         no        yes   no         no      no    yes      yes       no   \n",
              "2        yes         no  yes         no     yes    yes      yes       no   \n",
              "\n",
              "   family_rel  free_time  go_out  d_alcool  w_alcool  health  absences  G1  \\\n",
              "0           4          3       4         1         1       3         6   5   \n",
              "1           5          3       3         1         1       3         4   5   \n",
              "2           4          3       2         2         3       3        10   7   \n",
              "\n",
              "   G2  G3  \n",
              "0   6   6  \n",
              "1   5   6  \n",
              "2   8  10  "
            ]
          },
          "metadata": {},
          "execution_count": 5
        }
      ],
      "source": [
        "# config para mostrar todas as colunas\n",
        "pd.set_option('display.max_columns', None)\n",
        "# exibindo as primeiras 3 linhas\n",
        "data.head(3)"
      ]
    },
    {
      "cell_type": "markdown",
      "metadata": {
        "id": "dqgl6BKWPriZ"
      },
      "source": [
        "Ao total, o dataset possui 395 instância com 33 variáveis (numéricas e categoricas)"
      ]
    },
    {
      "cell_type": "code",
      "execution_count": 6,
      "metadata": {
        "colab": {
          "base_uri": "https://localhost:8080/"
        },
        "id": "K6FWMzvCjrNT",
        "outputId": "ce083e9e-2cb7-48d7-ebbc-d64b1a0bf8ba"
      },
      "outputs": [
        {
          "output_type": "execute_result",
          "data": {
            "text/plain": [
              "(395, 33)"
            ]
          },
          "metadata": {},
          "execution_count": 6
        }
      ],
      "source": [
        "# exibindo as dimensões do dataset (linhas, colunas)\n",
        "data.shape"
      ]
    },
    {
      "cell_type": "code",
      "execution_count": 7,
      "metadata": {
        "colab": {
          "base_uri": "https://localhost:8080/"
        },
        "id": "LqrTYFAgaKHL",
        "outputId": "dad510aa-0f5f-411e-9e41-c51cda88696e"
      },
      "outputs": [
        {
          "output_type": "execute_result",
          "data": {
            "text/plain": [
              "school            395\n",
              "sex               395\n",
              "age               395\n",
              "address           395\n",
              "fam_size          395\n",
              "parents_status    395\n",
              "mother_edu        395\n",
              "father_edu        395\n",
              "mother_job        395\n",
              "father_job        395\n",
              "reason            395\n",
              "guardian          395\n",
              "travel_time       395\n",
              "study_time        395\n",
              "failures          395\n",
              "school_sup        395\n",
              "family_sup        395\n",
              "paid              395\n",
              "activities        395\n",
              "nursery           395\n",
              "higher            395\n",
              "internet          395\n",
              "romantic          395\n",
              "family_rel        395\n",
              "free_time         395\n",
              "go_out            395\n",
              "d_alcool          395\n",
              "w_alcool          395\n",
              "health            395\n",
              "absences          395\n",
              "G1                395\n",
              "G2                395\n",
              "G3                395\n",
              "dtype: int64"
            ]
          },
          "metadata": {},
          "execution_count": 7
        }
      ],
      "source": [
        "# exibindo a quantidade de linhas por coluna\n",
        "data.count()"
      ]
    },
    {
      "cell_type": "code",
      "execution_count": 8,
      "metadata": {
        "colab": {
          "base_uri": "https://localhost:8080/"
        },
        "id": "zcuAO6PSc1X1",
        "outputId": "e19385d3-2783-4075-9c77-6d9f94803640"
      },
      "outputs": [
        {
          "output_type": "execute_result",
          "data": {
            "text/plain": [
              "school            0\n",
              "sex               0\n",
              "age               0\n",
              "address           0\n",
              "fam_size          0\n",
              "parents_status    0\n",
              "mother_edu        0\n",
              "father_edu        0\n",
              "mother_job        0\n",
              "father_job        0\n",
              "reason            0\n",
              "guardian          0\n",
              "travel_time       0\n",
              "study_time        0\n",
              "failures          0\n",
              "school_sup        0\n",
              "family_sup        0\n",
              "paid              0\n",
              "activities        0\n",
              "nursery           0\n",
              "higher            0\n",
              "internet          0\n",
              "romantic          0\n",
              "family_rel        0\n",
              "free_time         0\n",
              "go_out            0\n",
              "d_alcool          0\n",
              "w_alcool          0\n",
              "health            0\n",
              "absences          0\n",
              "G1                0\n",
              "G2                0\n",
              "G3                0\n",
              "dtype: int64"
            ]
          },
          "metadata": {},
          "execution_count": 8
        }
      ],
      "source": [
        "#Verificando valores nulos\n",
        "data.isnull().sum()"
      ]
    },
    {
      "cell_type": "markdown",
      "metadata": {
        "id": "XOxaNAUxVnmG"
      },
      "source": [
        "#### Distribuição das classes\n",
        "A distribuição das classes é desequilibrada, pois o número de alunos com nota acima da média é mais que o dobro do número de alunos abaixo da média. Possivelmente precisaremos realizar algum tipo de tratamento para balanceamento nas próximas etapas."
      ]
    },
    {
      "cell_type": "code",
      "execution_count": 9,
      "metadata": {
        "colab": {
          "base_uri": "https://localhost:8080/"
        },
        "id": "gd58Ne9manUL",
        "outputId": "176593a0-fd25-4d9d-96db-1fc99debdae1"
      },
      "outputs": [
        {
          "output_type": "execute_result",
          "data": {
            "text/plain": [
              "class\n",
              "fail    130\n",
              "pass    265\n",
              "Name: class, dtype: int64"
            ]
          },
          "metadata": {},
          "execution_count": 9
        }
      ],
      "source": [
        "# distribuição inicial das classes\n",
        "#criando coluna com resultado da avaliacao final (G3>=10 - aprovado, G3<10 - reprovado)\n",
        "data['class'] = np.where(data['G3']>= 10, 'pass', 'fail')\n",
        "data['class'].groupby(data['class']).count()"
      ]
    },
    {
      "cell_type": "markdown",
      "metadata": {
        "id": "pzvixg6XP-1M"
      },
      "source": [
        "## 3.2. Estatística Descritiva\n",
        "Quando analisamos o atributo absenses (ausências) vemos um valor máximo muito distante da média, o que indica a presença de outliers."
      ]
    },
    {
      "cell_type": "code",
      "execution_count": 10,
      "metadata": {
        "colab": {
          "base_uri": "https://localhost:8080/",
          "height": 364
        },
        "id": "yrFoAZskPfGH",
        "outputId": "8ea0d7e2-03fe-4e4c-ab0a-462862f0dd5d"
      },
      "outputs": [
        {
          "output_type": "execute_result",
          "data": {
            "text/html": [
              "\n",
              "  <div id=\"df-91372dec-b07e-47e6-b19e-0032c6fe2044\">\n",
              "    <div class=\"colab-df-container\">\n",
              "      <div>\n",
              "<style scoped>\n",
              "    .dataframe tbody tr th:only-of-type {\n",
              "        vertical-align: middle;\n",
              "    }\n",
              "\n",
              "    .dataframe tbody tr th {\n",
              "        vertical-align: top;\n",
              "    }\n",
              "\n",
              "    .dataframe thead th {\n",
              "        text-align: right;\n",
              "    }\n",
              "</style>\n",
              "<table border=\"1\" class=\"dataframe\">\n",
              "  <thead>\n",
              "    <tr style=\"text-align: right;\">\n",
              "      <th></th>\n",
              "      <th>age</th>\n",
              "      <th>mother_edu</th>\n",
              "      <th>father_edu</th>\n",
              "      <th>travel_time</th>\n",
              "      <th>study_time</th>\n",
              "      <th>failures</th>\n",
              "      <th>family_rel</th>\n",
              "      <th>free_time</th>\n",
              "      <th>go_out</th>\n",
              "      <th>d_alcool</th>\n",
              "      <th>w_alcool</th>\n",
              "      <th>health</th>\n",
              "      <th>absences</th>\n",
              "      <th>G1</th>\n",
              "      <th>G2</th>\n",
              "      <th>G3</th>\n",
              "    </tr>\n",
              "  </thead>\n",
              "  <tbody>\n",
              "    <tr>\n",
              "      <th>count</th>\n",
              "      <td>395.000000</td>\n",
              "      <td>395.000000</td>\n",
              "      <td>395.000000</td>\n",
              "      <td>395.000000</td>\n",
              "      <td>395.000000</td>\n",
              "      <td>395.000000</td>\n",
              "      <td>395.000000</td>\n",
              "      <td>395.000000</td>\n",
              "      <td>395.000000</td>\n",
              "      <td>395.000000</td>\n",
              "      <td>395.000000</td>\n",
              "      <td>395.000000</td>\n",
              "      <td>395.000000</td>\n",
              "      <td>395.000000</td>\n",
              "      <td>395.000000</td>\n",
              "      <td>395.000000</td>\n",
              "    </tr>\n",
              "    <tr>\n",
              "      <th>mean</th>\n",
              "      <td>16.696203</td>\n",
              "      <td>2.749367</td>\n",
              "      <td>2.521519</td>\n",
              "      <td>1.448101</td>\n",
              "      <td>2.035443</td>\n",
              "      <td>0.334177</td>\n",
              "      <td>3.944304</td>\n",
              "      <td>3.235443</td>\n",
              "      <td>3.108861</td>\n",
              "      <td>1.481013</td>\n",
              "      <td>2.291139</td>\n",
              "      <td>3.554430</td>\n",
              "      <td>5.708861</td>\n",
              "      <td>10.908861</td>\n",
              "      <td>10.713924</td>\n",
              "      <td>10.415190</td>\n",
              "    </tr>\n",
              "    <tr>\n",
              "      <th>std</th>\n",
              "      <td>1.276043</td>\n",
              "      <td>1.094735</td>\n",
              "      <td>1.088201</td>\n",
              "      <td>0.697505</td>\n",
              "      <td>0.839240</td>\n",
              "      <td>0.743651</td>\n",
              "      <td>0.896659</td>\n",
              "      <td>0.998862</td>\n",
              "      <td>1.113278</td>\n",
              "      <td>0.890741</td>\n",
              "      <td>1.287897</td>\n",
              "      <td>1.390303</td>\n",
              "      <td>8.003096</td>\n",
              "      <td>3.319195</td>\n",
              "      <td>3.761505</td>\n",
              "      <td>4.581443</td>\n",
              "    </tr>\n",
              "    <tr>\n",
              "      <th>min</th>\n",
              "      <td>15.000000</td>\n",
              "      <td>0.000000</td>\n",
              "      <td>0.000000</td>\n",
              "      <td>1.000000</td>\n",
              "      <td>1.000000</td>\n",
              "      <td>0.000000</td>\n",
              "      <td>1.000000</td>\n",
              "      <td>1.000000</td>\n",
              "      <td>1.000000</td>\n",
              "      <td>1.000000</td>\n",
              "      <td>1.000000</td>\n",
              "      <td>1.000000</td>\n",
              "      <td>0.000000</td>\n",
              "      <td>3.000000</td>\n",
              "      <td>0.000000</td>\n",
              "      <td>0.000000</td>\n",
              "    </tr>\n",
              "    <tr>\n",
              "      <th>25%</th>\n",
              "      <td>16.000000</td>\n",
              "      <td>2.000000</td>\n",
              "      <td>2.000000</td>\n",
              "      <td>1.000000</td>\n",
              "      <td>1.000000</td>\n",
              "      <td>0.000000</td>\n",
              "      <td>4.000000</td>\n",
              "      <td>3.000000</td>\n",
              "      <td>2.000000</td>\n",
              "      <td>1.000000</td>\n",
              "      <td>1.000000</td>\n",
              "      <td>3.000000</td>\n",
              "      <td>0.000000</td>\n",
              "      <td>8.000000</td>\n",
              "      <td>9.000000</td>\n",
              "      <td>8.000000</td>\n",
              "    </tr>\n",
              "    <tr>\n",
              "      <th>50%</th>\n",
              "      <td>17.000000</td>\n",
              "      <td>3.000000</td>\n",
              "      <td>2.000000</td>\n",
              "      <td>1.000000</td>\n",
              "      <td>2.000000</td>\n",
              "      <td>0.000000</td>\n",
              "      <td>4.000000</td>\n",
              "      <td>3.000000</td>\n",
              "      <td>3.000000</td>\n",
              "      <td>1.000000</td>\n",
              "      <td>2.000000</td>\n",
              "      <td>4.000000</td>\n",
              "      <td>4.000000</td>\n",
              "      <td>11.000000</td>\n",
              "      <td>11.000000</td>\n",
              "      <td>11.000000</td>\n",
              "    </tr>\n",
              "    <tr>\n",
              "      <th>75%</th>\n",
              "      <td>18.000000</td>\n",
              "      <td>4.000000</td>\n",
              "      <td>3.000000</td>\n",
              "      <td>2.000000</td>\n",
              "      <td>2.000000</td>\n",
              "      <td>0.000000</td>\n",
              "      <td>5.000000</td>\n",
              "      <td>4.000000</td>\n",
              "      <td>4.000000</td>\n",
              "      <td>2.000000</td>\n",
              "      <td>3.000000</td>\n",
              "      <td>5.000000</td>\n",
              "      <td>8.000000</td>\n",
              "      <td>13.000000</td>\n",
              "      <td>13.000000</td>\n",
              "      <td>14.000000</td>\n",
              "    </tr>\n",
              "    <tr>\n",
              "      <th>max</th>\n",
              "      <td>22.000000</td>\n",
              "      <td>4.000000</td>\n",
              "      <td>4.000000</td>\n",
              "      <td>4.000000</td>\n",
              "      <td>4.000000</td>\n",
              "      <td>3.000000</td>\n",
              "      <td>5.000000</td>\n",
              "      <td>5.000000</td>\n",
              "      <td>5.000000</td>\n",
              "      <td>5.000000</td>\n",
              "      <td>5.000000</td>\n",
              "      <td>5.000000</td>\n",
              "      <td>75.000000</td>\n",
              "      <td>19.000000</td>\n",
              "      <td>19.000000</td>\n",
              "      <td>20.000000</td>\n",
              "    </tr>\n",
              "  </tbody>\n",
              "</table>\n",
              "</div>\n",
              "      <button class=\"colab-df-convert\" onclick=\"convertToInteractive('df-91372dec-b07e-47e6-b19e-0032c6fe2044')\"\n",
              "              title=\"Convert this dataframe to an interactive table.\"\n",
              "              style=\"display:none;\">\n",
              "        \n",
              "  <svg xmlns=\"http://www.w3.org/2000/svg\" height=\"24px\"viewBox=\"0 0 24 24\"\n",
              "       width=\"24px\">\n",
              "    <path d=\"M0 0h24v24H0V0z\" fill=\"none\"/>\n",
              "    <path d=\"M18.56 5.44l.94 2.06.94-2.06 2.06-.94-2.06-.94-.94-2.06-.94 2.06-2.06.94zm-11 1L8.5 8.5l.94-2.06 2.06-.94-2.06-.94L8.5 2.5l-.94 2.06-2.06.94zm10 10l.94 2.06.94-2.06 2.06-.94-2.06-.94-.94-2.06-.94 2.06-2.06.94z\"/><path d=\"M17.41 7.96l-1.37-1.37c-.4-.4-.92-.59-1.43-.59-.52 0-1.04.2-1.43.59L10.3 9.45l-7.72 7.72c-.78.78-.78 2.05 0 2.83L4 21.41c.39.39.9.59 1.41.59.51 0 1.02-.2 1.41-.59l7.78-7.78 2.81-2.81c.8-.78.8-2.07 0-2.86zM5.41 20L4 18.59l7.72-7.72 1.47 1.35L5.41 20z\"/>\n",
              "  </svg>\n",
              "      </button>\n",
              "      \n",
              "  <style>\n",
              "    .colab-df-container {\n",
              "      display:flex;\n",
              "      flex-wrap:wrap;\n",
              "      gap: 12px;\n",
              "    }\n",
              "\n",
              "    .colab-df-convert {\n",
              "      background-color: #E8F0FE;\n",
              "      border: none;\n",
              "      border-radius: 50%;\n",
              "      cursor: pointer;\n",
              "      display: none;\n",
              "      fill: #1967D2;\n",
              "      height: 32px;\n",
              "      padding: 0 0 0 0;\n",
              "      width: 32px;\n",
              "    }\n",
              "\n",
              "    .colab-df-convert:hover {\n",
              "      background-color: #E2EBFA;\n",
              "      box-shadow: 0px 1px 2px rgba(60, 64, 67, 0.3), 0px 1px 3px 1px rgba(60, 64, 67, 0.15);\n",
              "      fill: #174EA6;\n",
              "    }\n",
              "\n",
              "    [theme=dark] .colab-df-convert {\n",
              "      background-color: #3B4455;\n",
              "      fill: #D2E3FC;\n",
              "    }\n",
              "\n",
              "    [theme=dark] .colab-df-convert:hover {\n",
              "      background-color: #434B5C;\n",
              "      box-shadow: 0px 1px 3px 1px rgba(0, 0, 0, 0.15);\n",
              "      filter: drop-shadow(0px 1px 2px rgba(0, 0, 0, 0.3));\n",
              "      fill: #FFFFFF;\n",
              "    }\n",
              "  </style>\n",
              "\n",
              "      <script>\n",
              "        const buttonEl =\n",
              "          document.querySelector('#df-91372dec-b07e-47e6-b19e-0032c6fe2044 button.colab-df-convert');\n",
              "        buttonEl.style.display =\n",
              "          google.colab.kernel.accessAllowed ? 'block' : 'none';\n",
              "\n",
              "        async function convertToInteractive(key) {\n",
              "          const element = document.querySelector('#df-91372dec-b07e-47e6-b19e-0032c6fe2044');\n",
              "          const dataTable =\n",
              "            await google.colab.kernel.invokeFunction('convertToInteractive',\n",
              "                                                     [key], {});\n",
              "          if (!dataTable) return;\n",
              "\n",
              "          const docLinkHtml = 'Like what you see? Visit the ' +\n",
              "            '<a target=\"_blank\" href=https://colab.research.google.com/notebooks/data_table.ipynb>data table notebook</a>'\n",
              "            + ' to learn more about interactive tables.';\n",
              "          element.innerHTML = '';\n",
              "          dataTable['output_type'] = 'display_data';\n",
              "          await google.colab.output.renderOutput(dataTable, element);\n",
              "          const docLink = document.createElement('div');\n",
              "          docLink.innerHTML = docLinkHtml;\n",
              "          element.appendChild(docLink);\n",
              "        }\n",
              "      </script>\n",
              "    </div>\n",
              "  </div>\n",
              "  "
            ],
            "text/plain": [
              "              age  mother_edu  father_edu  travel_time  study_time  \\\n",
              "count  395.000000  395.000000  395.000000   395.000000  395.000000   \n",
              "mean    16.696203    2.749367    2.521519     1.448101    2.035443   \n",
              "std      1.276043    1.094735    1.088201     0.697505    0.839240   \n",
              "min     15.000000    0.000000    0.000000     1.000000    1.000000   \n",
              "25%     16.000000    2.000000    2.000000     1.000000    1.000000   \n",
              "50%     17.000000    3.000000    2.000000     1.000000    2.000000   \n",
              "75%     18.000000    4.000000    3.000000     2.000000    2.000000   \n",
              "max     22.000000    4.000000    4.000000     4.000000    4.000000   \n",
              "\n",
              "         failures  family_rel   free_time      go_out    d_alcool    w_alcool  \\\n",
              "count  395.000000  395.000000  395.000000  395.000000  395.000000  395.000000   \n",
              "mean     0.334177    3.944304    3.235443    3.108861    1.481013    2.291139   \n",
              "std      0.743651    0.896659    0.998862    1.113278    0.890741    1.287897   \n",
              "min      0.000000    1.000000    1.000000    1.000000    1.000000    1.000000   \n",
              "25%      0.000000    4.000000    3.000000    2.000000    1.000000    1.000000   \n",
              "50%      0.000000    4.000000    3.000000    3.000000    1.000000    2.000000   \n",
              "75%      0.000000    5.000000    4.000000    4.000000    2.000000    3.000000   \n",
              "max      3.000000    5.000000    5.000000    5.000000    5.000000    5.000000   \n",
              "\n",
              "           health    absences          G1          G2          G3  \n",
              "count  395.000000  395.000000  395.000000  395.000000  395.000000  \n",
              "mean     3.554430    5.708861   10.908861   10.713924   10.415190  \n",
              "std      1.390303    8.003096    3.319195    3.761505    4.581443  \n",
              "min      1.000000    0.000000    3.000000    0.000000    0.000000  \n",
              "25%      3.000000    0.000000    8.000000    9.000000    8.000000  \n",
              "50%      4.000000    4.000000   11.000000   11.000000   11.000000  \n",
              "75%      5.000000    8.000000   13.000000   13.000000   14.000000  \n",
              "max      5.000000   75.000000   19.000000   19.000000   20.000000  "
            ]
          },
          "metadata": {},
          "execution_count": 10
        }
      ],
      "source": [
        "# exibindo um sumário estatístico (quantidade, média, desvio padrão, mínimo, quartis e máximo)\n",
        "data.describe()"
      ]
    },
    {
      "cell_type": "code",
      "execution_count": 11,
      "metadata": {
        "colab": {
          "base_uri": "https://localhost:8080/",
          "height": 54
        },
        "id": "G78inV_7kicR",
        "outputId": "0506456f-05d3-48dd-ddcb-7eaba2fadf1c"
      },
      "outputs": [
        {
          "output_type": "display_data",
          "data": {
            "image/png": "[encoded data removed]",
            "text/plain": [
              "<Figure size 432x288 with 1 Axes>"
            ]
          },
          "metadata": {
            "needs_background": "light"
          }
        }
      ],
      "source": [
        "p = sns.countplot(x=\"class\", data = data, hue='class', palette='bright')\n",
        "_ = plt.setp(p.get_xticklabels(), rotation=90) "
      ]
    },
    {
      "cell_type": "markdown",
      "metadata": {
        "id": "ObpRN23SaPat"
      },
      "source": [
        "### Correlação\n",
        "A correlação representa como duas variáveis numéricas estão relacionadas. Existem várias formas de calcular a correlação entre duas variáveis, como por exemplo, o coeficiente de correlação de Pearson, que pode ser:\n",
        "\n",
        "* Próximo de -1: há uma correlação negativa entre as variáveis;\n",
        "* Próximo de +1: há uma correlação positiva entre as variáveis;\n",
        "* 0: Não há correlação entre as variáveis.\n"
      ]
    },
    {
      "cell_type": "markdown",
      "metadata": {
        "id": "OPRvrTIHbGpx"
      },
      "source": [
        "A alta correlacão entre G1, G2 e G3 já era esperada, conforme sinalizado no início do trabalho, pois geralmente a nota final é calculada considerando as notas anteriores. Com exceção dessas variáveis, nenhuma outra correlção chama atenção"
      ]
    },
    {
      "cell_type": "code",
      "execution_count": 12,
      "metadata": {
        "colab": {
          "base_uri": "https://localhost:8080/",
          "height": 615
        },
        "id": "KGEGnrbRU_eZ",
        "outputId": "4238a382-f37d-49cb-bc44-4248dccb6514"
      },
      "outputs": [
        {
          "output_type": "execute_result",
          "data": {
            "text/html": [
              "\n",
              "  <div id=\"df-ac1a9970-97e7-4154-8360-1271de0387e2\">\n",
              "    <div class=\"colab-df-container\">\n",
              "      <div>\n",
              "<style scoped>\n",
              "    .dataframe tbody tr th:only-of-type {\n",
              "        vertical-align: middle;\n",
              "    }\n",
              "\n",
              "    .dataframe tbody tr th {\n",
              "        vertical-align: top;\n",
              "    }\n",
              "\n",
              "    .dataframe thead th {\n",
              "        text-align: right;\n",
              "    }\n",
              "</style>\n",
              "<table border=\"1\" class=\"dataframe\">\n",
              "  <thead>\n",
              "    <tr style=\"text-align: right;\">\n",
              "      <th></th>\n",
              "      <th>age</th>\n",
              "      <th>mother_edu</th>\n",
              "      <th>father_edu</th>\n",
              "      <th>travel_time</th>\n",
              "      <th>study_time</th>\n",
              "      <th>failures</th>\n",
              "      <th>family_rel</th>\n",
              "      <th>free_time</th>\n",
              "      <th>go_out</th>\n",
              "      <th>d_alcool</th>\n",
              "      <th>w_alcool</th>\n",
              "      <th>health</th>\n",
              "      <th>absences</th>\n",
              "      <th>G1</th>\n",
              "      <th>G2</th>\n",
              "      <th>G3</th>\n",
              "    </tr>\n",
              "  </thead>\n",
              "  <tbody>\n",
              "    <tr>\n",
              "      <th>age</th>\n",
              "      <td>1.000000</td>\n",
              "      <td>-0.163658</td>\n",
              "      <td>-0.163438</td>\n",
              "      <td>0.070641</td>\n",
              "      <td>-0.004140</td>\n",
              "      <td>0.243665</td>\n",
              "      <td>0.053940</td>\n",
              "      <td>0.016434</td>\n",
              "      <td>0.126964</td>\n",
              "      <td>0.131125</td>\n",
              "      <td>0.117276</td>\n",
              "      <td>-0.062187</td>\n",
              "      <td>0.175230</td>\n",
              "      <td>-0.064081</td>\n",
              "      <td>-0.143474</td>\n",
              "      <td>-0.161579</td>\n",
              "    </tr>\n",
              "    <tr>\n",
              "      <th>mother_edu</th>\n",
              "      <td>-0.163658</td>\n",
              "      <td>1.000000</td>\n",
              "      <td>0.623455</td>\n",
              "      <td>-0.171639</td>\n",
              "      <td>0.064944</td>\n",
              "      <td>-0.236680</td>\n",
              "      <td>-0.003914</td>\n",
              "      <td>0.030891</td>\n",
              "      <td>0.064094</td>\n",
              "      <td>0.019834</td>\n",
              "      <td>-0.047123</td>\n",
              "      <td>-0.046878</td>\n",
              "      <td>0.100285</td>\n",
              "      <td>0.205341</td>\n",
              "      <td>0.215527</td>\n",
              "      <td>0.217147</td>\n",
              "    </tr>\n",
              "    <tr>\n",
              "      <th>father_edu</th>\n",
              "      <td>-0.163438</td>\n",
              "      <td>0.623455</td>\n",
              "      <td>1.000000</td>\n",
              "      <td>-0.158194</td>\n",
              "      <td>-0.009175</td>\n",
              "      <td>-0.250408</td>\n",
              "      <td>-0.001370</td>\n",
              "      <td>-0.012846</td>\n",
              "      <td>0.043105</td>\n",
              "      <td>0.002386</td>\n",
              "      <td>-0.012631</td>\n",
              "      <td>0.014742</td>\n",
              "      <td>0.024473</td>\n",
              "      <td>0.190270</td>\n",
              "      <td>0.164893</td>\n",
              "      <td>0.152457</td>\n",
              "    </tr>\n",
              "    <tr>\n",
              "      <th>travel_time</th>\n",
              "      <td>0.070641</td>\n",
              "      <td>-0.171639</td>\n",
              "      <td>-0.158194</td>\n",
              "      <td>1.000000</td>\n",
              "      <td>-0.100909</td>\n",
              "      <td>0.092239</td>\n",
              "      <td>-0.016808</td>\n",
              "      <td>-0.017025</td>\n",
              "      <td>0.028540</td>\n",
              "      <td>0.138325</td>\n",
              "      <td>0.134116</td>\n",
              "      <td>0.007501</td>\n",
              "      <td>-0.012944</td>\n",
              "      <td>-0.093040</td>\n",
              "      <td>-0.153198</td>\n",
              "      <td>-0.117142</td>\n",
              "    </tr>\n",
              "    <tr>\n",
              "      <th>study_time</th>\n",
              "      <td>-0.004140</td>\n",
              "      <td>0.064944</td>\n",
              "      <td>-0.009175</td>\n",
              "      <td>-0.100909</td>\n",
              "      <td>1.000000</td>\n",
              "      <td>-0.173563</td>\n",
              "      <td>0.039731</td>\n",
              "      <td>-0.143198</td>\n",
              "      <td>-0.063904</td>\n",
              "      <td>-0.196019</td>\n",
              "      <td>-0.253785</td>\n",
              "      <td>-0.075616</td>\n",
              "      <td>-0.062700</td>\n",
              "      <td>0.160612</td>\n",
              "      <td>0.135880</td>\n",
              "      <td>0.097820</td>\n",
              "    </tr>\n",
              "    <tr>\n",
              "      <th>failures</th>\n",
              "      <td>0.243665</td>\n",
              "      <td>-0.236680</td>\n",
              "      <td>-0.250408</td>\n",
              "      <td>0.092239</td>\n",
              "      <td>-0.173563</td>\n",
              "      <td>1.000000</td>\n",
              "      <td>-0.044337</td>\n",
              "      <td>0.091987</td>\n",
              "      <td>0.124561</td>\n",
              "      <td>0.136047</td>\n",
              "      <td>0.141962</td>\n",
              "      <td>0.065827</td>\n",
              "      <td>0.063726</td>\n",
              "      <td>-0.354718</td>\n",
              "      <td>-0.355896</td>\n",
              "      <td>-0.360415</td>\n",
              "    </tr>\n",
              "    <tr>\n",
              "      <th>family_rel</th>\n",
              "      <td>0.053940</td>\n",
              "      <td>-0.003914</td>\n",
              "      <td>-0.001370</td>\n",
              "      <td>-0.016808</td>\n",
              "      <td>0.039731</td>\n",
              "      <td>-0.044337</td>\n",
              "      <td>1.000000</td>\n",
              "      <td>0.150701</td>\n",
              "      <td>0.064568</td>\n",
              "      <td>-0.077594</td>\n",
              "      <td>-0.113397</td>\n",
              "      <td>0.094056</td>\n",
              "      <td>-0.044354</td>\n",
              "      <td>0.022168</td>\n",
              "      <td>-0.018281</td>\n",
              "      <td>0.051363</td>\n",
              "    </tr>\n",
              "    <tr>\n",
              "      <th>free_time</th>\n",
              "      <td>0.016434</td>\n",
              "      <td>0.030891</td>\n",
              "      <td>-0.012846</td>\n",
              "      <td>-0.017025</td>\n",
              "      <td>-0.143198</td>\n",
              "      <td>0.091987</td>\n",
              "      <td>0.150701</td>\n",
              "      <td>1.000000</td>\n",
              "      <td>0.285019</td>\n",
              "      <td>0.209001</td>\n",
              "      <td>0.147822</td>\n",
              "      <td>0.075733</td>\n",
              "      <td>-0.058078</td>\n",
              "      <td>0.012613</td>\n",
              "      <td>-0.013777</td>\n",
              "      <td>0.011307</td>\n",
              "    </tr>\n",
              "    <tr>\n",
              "      <th>go_out</th>\n",
              "      <td>0.126964</td>\n",
              "      <td>0.064094</td>\n",
              "      <td>0.043105</td>\n",
              "      <td>0.028540</td>\n",
              "      <td>-0.063904</td>\n",
              "      <td>0.124561</td>\n",
              "      <td>0.064568</td>\n",
              "      <td>0.285019</td>\n",
              "      <td>1.000000</td>\n",
              "      <td>0.266994</td>\n",
              "      <td>0.420386</td>\n",
              "      <td>-0.009577</td>\n",
              "      <td>0.044302</td>\n",
              "      <td>-0.149104</td>\n",
              "      <td>-0.162250</td>\n",
              "      <td>-0.132791</td>\n",
              "    </tr>\n",
              "    <tr>\n",
              "      <th>d_alcool</th>\n",
              "      <td>0.131125</td>\n",
              "      <td>0.019834</td>\n",
              "      <td>0.002386</td>\n",
              "      <td>0.138325</td>\n",
              "      <td>-0.196019</td>\n",
              "      <td>0.136047</td>\n",
              "      <td>-0.077594</td>\n",
              "      <td>0.209001</td>\n",
              "      <td>0.266994</td>\n",
              "      <td>1.000000</td>\n",
              "      <td>0.647544</td>\n",
              "      <td>0.077180</td>\n",
              "      <td>0.111908</td>\n",
              "      <td>-0.094159</td>\n",
              "      <td>-0.064120</td>\n",
              "      <td>-0.054660</td>\n",
              "    </tr>\n",
              "    <tr>\n",
              "      <th>w_alcool</th>\n",
              "      <td>0.117276</td>\n",
              "      <td>-0.047123</td>\n",
              "      <td>-0.012631</td>\n",
              "      <td>0.134116</td>\n",
              "      <td>-0.253785</td>\n",
              "      <td>0.141962</td>\n",
              "      <td>-0.113397</td>\n",
              "      <td>0.147822</td>\n",
              "      <td>0.420386</td>\n",
              "      <td>0.647544</td>\n",
              "      <td>1.000000</td>\n",
              "      <td>0.092476</td>\n",
              "      <td>0.136291</td>\n",
              "      <td>-0.126179</td>\n",
              "      <td>-0.084927</td>\n",
              "      <td>-0.051939</td>\n",
              "    </tr>\n",
              "    <tr>\n",
              "      <th>health</th>\n",
              "      <td>-0.062187</td>\n",
              "      <td>-0.046878</td>\n",
              "      <td>0.014742</td>\n",
              "      <td>0.007501</td>\n",
              "      <td>-0.075616</td>\n",
              "      <td>0.065827</td>\n",
              "      <td>0.094056</td>\n",
              "      <td>0.075733</td>\n",
              "      <td>-0.009577</td>\n",
              "      <td>0.077180</td>\n",
              "      <td>0.092476</td>\n",
              "      <td>1.000000</td>\n",
              "      <td>-0.029937</td>\n",
              "      <td>-0.073172</td>\n",
              "      <td>-0.097720</td>\n",
              "      <td>-0.061335</td>\n",
              "    </tr>\n",
              "    <tr>\n",
              "      <th>absences</th>\n",
              "      <td>0.175230</td>\n",
              "      <td>0.100285</td>\n",
              "      <td>0.024473</td>\n",
              "      <td>-0.012944</td>\n",
              "      <td>-0.062700</td>\n",
              "      <td>0.063726</td>\n",
              "      <td>-0.044354</td>\n",
              "      <td>-0.058078</td>\n",
              "      <td>0.044302</td>\n",
              "      <td>0.111908</td>\n",
              "      <td>0.136291</td>\n",
              "      <td>-0.029937</td>\n",
              "      <td>1.000000</td>\n",
              "      <td>-0.031003</td>\n",
              "      <td>-0.031777</td>\n",
              "      <td>0.034247</td>\n",
              "    </tr>\n",
              "    <tr>\n",
              "      <th>G1</th>\n",
              "      <td>-0.064081</td>\n",
              "      <td>0.205341</td>\n",
              "      <td>0.190270</td>\n",
              "      <td>-0.093040</td>\n",
              "      <td>0.160612</td>\n",
              "      <td>-0.354718</td>\n",
              "      <td>0.022168</td>\n",
              "      <td>0.012613</td>\n",
              "      <td>-0.149104</td>\n",
              "      <td>-0.094159</td>\n",
              "      <td>-0.126179</td>\n",
              "      <td>-0.073172</td>\n",
              "      <td>-0.031003</td>\n",
              "      <td>1.000000</td>\n",
              "      <td>0.852118</td>\n",
              "      <td>0.801468</td>\n",
              "    </tr>\n",
              "    <tr>\n",
              "      <th>G2</th>\n",
              "      <td>-0.143474</td>\n",
              "      <td>0.215527</td>\n",
              "      <td>0.164893</td>\n",
              "      <td>-0.153198</td>\n",
              "      <td>0.135880</td>\n",
              "      <td>-0.355896</td>\n",
              "      <td>-0.018281</td>\n",
              "      <td>-0.013777</td>\n",
              "      <td>-0.162250</td>\n",
              "      <td>-0.064120</td>\n",
              "      <td>-0.084927</td>\n",
              "      <td>-0.097720</td>\n",
              "      <td>-0.031777</td>\n",
              "      <td>0.852118</td>\n",
              "      <td>1.000000</td>\n",
              "      <td>0.904868</td>\n",
              "    </tr>\n",
              "    <tr>\n",
              "      <th>G3</th>\n",
              "      <td>-0.161579</td>\n",
              "      <td>0.217147</td>\n",
              "      <td>0.152457</td>\n",
              "      <td>-0.117142</td>\n",
              "      <td>0.097820</td>\n",
              "      <td>-0.360415</td>\n",
              "      <td>0.051363</td>\n",
              "      <td>0.011307</td>\n",
              "      <td>-0.132791</td>\n",
              "      <td>-0.054660</td>\n",
              "      <td>-0.051939</td>\n",
              "      <td>-0.061335</td>\n",
              "      <td>0.034247</td>\n",
              "      <td>0.801468</td>\n",
              "      <td>0.904868</td>\n",
              "      <td>1.000000</td>\n",
              "    </tr>\n",
              "  </tbody>\n",
              "</table>\n",
              "</div>\n",
              "      <button class=\"colab-df-convert\" onclick=\"convertToInteractive('df-ac1a9970-97e7-4154-8360-1271de0387e2')\"\n",
              "              title=\"Convert this dataframe to an interactive table.\"\n",
              "              style=\"display:none;\">\n",
              "        \n",
              "  <svg xmlns=\"http://www.w3.org/2000/svg\" height=\"24px\"viewBox=\"0 0 24 24\"\n",
              "       width=\"24px\">\n",
              "    <path d=\"M0 0h24v24H0V0z\" fill=\"none\"/>\n",
              "    <path d=\"M18.56 5.44l.94 2.06.94-2.06 2.06-.94-2.06-.94-.94-2.06-.94 2.06-2.06.94zm-11 1L8.5 8.5l.94-2.06 2.06-.94-2.06-.94L8.5 2.5l-.94 2.06-2.06.94zm10 10l.94 2.06.94-2.06 2.06-.94-2.06-.94-.94-2.06-.94 2.06-2.06.94z\"/><path d=\"M17.41 7.96l-1.37-1.37c-.4-.4-.92-.59-1.43-.59-.52 0-1.04.2-1.43.59L10.3 9.45l-7.72 7.72c-.78.78-.78 2.05 0 2.83L4 21.41c.39.39.9.59 1.41.59.51 0 1.02-.2 1.41-.59l7.78-7.78 2.81-2.81c.8-.78.8-2.07 0-2.86zM5.41 20L4 18.59l7.72-7.72 1.47 1.35L5.41 20z\"/>\n",
              "  </svg>\n",
              "      </button>\n",
              "      \n",
              "  <style>\n",
              "    .colab-df-container {\n",
              "      display:flex;\n",
              "      flex-wrap:wrap;\n",
              "      gap: 12px;\n",
              "    }\n",
              "\n",
              "    .colab-df-convert {\n",
              "      background-color: #E8F0FE;\n",
              "      border: none;\n",
              "      border-radius: 50%;\n",
              "      cursor: pointer;\n",
              "      display: none;\n",
              "      fill: #1967D2;\n",
              "      height: 32px;\n",
              "      padding: 0 0 0 0;\n",
              "      width: 32px;\n",
              "    }\n",
              "\n",
              "    .colab-df-convert:hover {\n",
              "      background-color: #E2EBFA;\n",
              "      box-shadow: 0px 1px 2px rgba(60, 64, 67, 0.3), 0px 1px 3px 1px rgba(60, 64, 67, 0.15);\n",
              "      fill: #174EA6;\n",
              "    }\n",
              "\n",
              "    [theme=dark] .colab-df-convert {\n",
              "      background-color: #3B4455;\n",
              "      fill: #D2E3FC;\n",
              "    }\n",
              "\n",
              "    [theme=dark] .colab-df-convert:hover {\n",
              "      background-color: #434B5C;\n",
              "      box-shadow: 0px 1px 3px 1px rgba(0, 0, 0, 0.15);\n",
              "      filter: drop-shadow(0px 1px 2px rgba(0, 0, 0, 0.3));\n",
              "      fill: #FFFFFF;\n",
              "    }\n",
              "  </style>\n",
              "\n",
              "      <script>\n",
              "        const buttonEl =\n",
              "          document.querySelector('#df-ac1a9970-97e7-4154-8360-1271de0387e2 button.colab-df-convert');\n",
              "        buttonEl.style.display =\n",
              "          google.colab.kernel.accessAllowed ? 'block' : 'none';\n",
              "\n",
              "        async function convertToInteractive(key) {\n",
              "          const element = document.querySelector('#df-ac1a9970-97e7-4154-8360-1271de0387e2');\n",
              "          const dataTable =\n",
              "            await google.colab.kernel.invokeFunction('convertToInteractive',\n",
              "                                                     [key], {});\n",
              "          if (!dataTable) return;\n",
              "\n",
              "          const docLinkHtml = 'Like what you see? Visit the ' +\n",
              "            '<a target=\"_blank\" href=https://colab.research.google.com/notebooks/data_table.ipynb>data table notebook</a>'\n",
              "            + ' to learn more about interactive tables.';\n",
              "          element.innerHTML = '';\n",
              "          dataTable['output_type'] = 'display_data';\n",
              "          await google.colab.output.renderOutput(dataTable, element);\n",
              "          const docLink = document.createElement('div');\n",
              "          docLink.innerHTML = docLinkHtml;\n",
              "          element.appendChild(docLink);\n",
              "        }\n",
              "      </script>\n",
              "    </div>\n",
              "  </div>\n",
              "  "
            ],
            "text/plain": [
              "                  age  mother_edu  father_edu  travel_time  study_time  \\\n",
              "age          1.000000   -0.163658   -0.163438     0.070641   -0.004140   \n",
              "mother_edu  -0.163658    1.000000    0.623455    -0.171639    0.064944   \n",
              "father_edu  -0.163438    0.623455    1.000000    -0.158194   -0.009175   \n",
              "travel_time  0.070641   -0.171639   -0.158194     1.000000   -0.100909   \n",
              "study_time  -0.004140    0.064944   -0.009175    -0.100909    1.000000   \n",
              "failures     0.243665   -0.236680   -0.250408     0.092239   -0.173563   \n",
              "family_rel   0.053940   -0.003914   -0.001370    -0.016808    0.039731   \n",
              "free_time    0.016434    0.030891   -0.012846    -0.017025   -0.143198   \n",
              "go_out       0.126964    0.064094    0.043105     0.028540   -0.063904   \n",
              "d_alcool     0.131125    0.019834    0.002386     0.138325   -0.196019   \n",
              "w_alcool     0.117276   -0.047123   -0.012631     0.134116   -0.253785   \n",
              "health      -0.062187   -0.046878    0.014742     0.007501   -0.075616   \n",
              "absences     0.175230    0.100285    0.024473    -0.012944   -0.062700   \n",
              "G1          -0.064081    0.205341    0.190270    -0.093040    0.160612   \n",
              "G2          -0.143474    0.215527    0.164893    -0.153198    0.135880   \n",
              "G3          -0.161579    0.217147    0.152457    -0.117142    0.097820   \n",
              "\n",
              "             failures  family_rel  free_time    go_out  d_alcool  w_alcool  \\\n",
              "age          0.243665    0.053940   0.016434  0.126964  0.131125  0.117276   \n",
              "mother_edu  -0.236680   -0.003914   0.030891  0.064094  0.019834 -0.047123   \n",
              "father_edu  -0.250408   -0.001370  -0.012846  0.043105  0.002386 -0.012631   \n",
              "travel_time  0.092239   -0.016808  -0.017025  0.028540  0.138325  0.134116   \n",
              "study_time  -0.173563    0.039731  -0.143198 -0.063904 -0.196019 -0.253785   \n",
              "failures     1.000000   -0.044337   0.091987  0.124561  0.136047  0.141962   \n",
              "family_rel  -0.044337    1.000000   0.150701  0.064568 -0.077594 -0.113397   \n",
              "free_time    0.091987    0.150701   1.000000  0.285019  0.209001  0.147822   \n",
              "go_out       0.124561    0.064568   0.285019  1.000000  0.266994  0.420386   \n",
              "d_alcool     0.136047   -0.077594   0.209001  0.266994  1.000000  0.647544   \n",
              "w_alcool     0.141962   -0.113397   0.147822  0.420386  0.647544  1.000000   \n",
              "health       0.065827    0.094056   0.075733 -0.009577  0.077180  0.092476   \n",
              "absences     0.063726   -0.044354  -0.058078  0.044302  0.111908  0.136291   \n",
              "G1          -0.354718    0.022168   0.012613 -0.149104 -0.094159 -0.126179   \n",
              "G2          -0.355896   -0.018281  -0.013777 -0.162250 -0.064120 -0.084927   \n",
              "G3          -0.360415    0.051363   0.011307 -0.132791 -0.054660 -0.051939   \n",
              "\n",
              "               health  absences        G1        G2        G3  \n",
              "age         -0.062187  0.175230 -0.064081 -0.143474 -0.161579  \n",
              "mother_edu  -0.046878  0.100285  0.205341  0.215527  0.217147  \n",
              "father_edu   0.014742  0.024473  0.190270  0.164893  0.152457  \n",
              "travel_time  0.007501 -0.012944 -0.093040 -0.153198 -0.117142  \n",
              "study_time  -0.075616 -0.062700  0.160612  0.135880  0.097820  \n",
              "failures     0.065827  0.063726 -0.354718 -0.355896 -0.360415  \n",
              "family_rel   0.094056 -0.044354  0.022168 -0.018281  0.051363  \n",
              "free_time    0.075733 -0.058078  0.012613 -0.013777  0.011307  \n",
              "go_out      -0.009577  0.044302 -0.149104 -0.162250 -0.132791  \n",
              "d_alcool     0.077180  0.111908 -0.094159 -0.064120 -0.054660  \n",
              "w_alcool     0.092476  0.136291 -0.126179 -0.084927 -0.051939  \n",
              "health       1.000000 -0.029937 -0.073172 -0.097720 -0.061335  \n",
              "absences    -0.029937  1.000000 -0.031003 -0.031777  0.034247  \n",
              "G1          -0.073172 -0.031003  1.000000  0.852118  0.801468  \n",
              "G2          -0.097720 -0.031777  0.852118  1.000000  0.904868  \n",
              "G3          -0.061335  0.034247  0.801468  0.904868  1.000000  "
            ]
          },
          "metadata": {},
          "execution_count": 12
        }
      ],
      "source": [
        "# Correlação de Pearson\n",
        "data.corr(method = 'pearson')"
      ]
    },
    {
      "cell_type": "markdown",
      "metadata": {
        "id": "c2kGVFBQe-8y"
      },
      "source": [
        "### Simetria\n",
        "\n",
        "Se o coeficiente resultante for:\n",
        "\n",
        "  * Maior que 0: a distribuição é assimétrica positiva (maior à esquerda e menor à direita);\n",
        "\n",
        "  * Menor que 0: a distribuição é assimétrica negativa (maior à direita e menor à esquerda);\n",
        "\n",
        "  * Igual a 0: a distribuição é simétrica.\n"
      ]
    },
    {
      "cell_type": "code",
      "execution_count": 13,
      "metadata": {
        "colab": {
          "base_uri": "https://localhost:8080/"
        },
        "id": "VbUAegnvTXi-",
        "outputId": "cc26cc43-e23b-4ec4-ea02-27b80aaedabe"
      },
      "outputs": [
        {
          "output_type": "execute_result",
          "data": {
            "text/plain": [
              "age            0.466270\n",
              "mother_edu    -0.318381\n",
              "father_edu    -0.031672\n",
              "travel_time    1.607029\n",
              "study_time     0.632142\n",
              "failures       2.387026\n",
              "family_rel    -0.951882\n",
              "free_time     -0.163351\n",
              "go_out         0.116502\n",
              "d_alcool       2.190762\n",
              "w_alcool       0.611960\n",
              "health        -0.494604\n",
              "absences       3.671579\n",
              "G1             0.240613\n",
              "G2            -0.431645\n",
              "G3            -0.732672\n",
              "dtype: float64"
            ]
          },
          "metadata": {},
          "execution_count": 13
        }
      ],
      "source": [
        "# Simetria de cada atributo\n",
        "data.skew()"
      ]
    },
    {
      "cell_type": "markdown",
      "metadata": {
        "id": "95PPLzadf8-M"
      },
      "source": [
        "## 3.3. Visualizações Unimodais"
      ]
    },
    {
      "cell_type": "markdown",
      "metadata": {
        "id": "gMqkniG-hF_Q"
      },
      "source": [
        "### Histograma\n",
        "Com o histograma temos uma melhor visualização para a simetria, mostrada acima.\n",
        "Ao analisarmos, vemos que a maioria dos atributos possui uma distribuição assimétrica. Isso indica que podemos ter que realizar algum tipo de tratamento para os algoritmos que presupõem uma distribuição normal dos dados "
      ]
    },
    {
      "cell_type": "code",
      "execution_count": 14,
      "metadata": {
        "colab": {
          "base_uri": "https://localhost:8080/",
          "height": 54
        },
        "id": "FpLCeKVdXodf",
        "outputId": "bce4537b-3281-4ea9-ad98-0c609cc4b9f5"
      },
      "outputs": [
        {
          "output_type": "display_data",
          "data": {
            "image/png": "[encoded data removed]",
            "text/plain": [
              "<Figure size 1080x720 with 16 Axes>"
            ]
          },
          "metadata": {
            "needs_background": "light"
          }
        }
      ],
      "source": [
        "# Histograma\n",
        "data.hist(figsize = (15,10))\n",
        "plt.show()"
      ]
    },
    {
      "cell_type": "markdown",
      "metadata": {
        "id": "gDOzA58qXJ2N"
      },
      "source": [
        "### Density Plot\n",
        "Uma outra visão para a distribuição dos dados"
      ]
    },
    {
      "cell_type": "code",
      "execution_count": 15,
      "metadata": {
        "colab": {
          "base_uri": "https://localhost:8080/",
          "height": 54
        },
        "id": "ZVF3phX_XtCi",
        "outputId": "973598b0-59fe-4915-9989-a96b680267ad"
      },
      "outputs": [
        {
          "output_type": "display_data",
          "data": {
            "image/png": "[encoded data removed]",
            "text/plain": [
              "<Figure size 1080x720 with 16 Axes>"
            ]
          },
          "metadata": {
            "needs_background": "light"
          }
        }
      ],
      "source": [
        "# Density Plot\n",
        "data.plot(kind = 'density', subplots = True, layout = (4,4), sharex = False, figsize = (15,10))\n",
        "plt.show()"
      ]
    },
    {
      "cell_type": "markdown",
      "metadata": {
        "id": "dcCFLuA5ZFx-"
      },
      "source": [
        "### Boxplot \n",
        "\n",
        "A linha no centro (vermelha) representa o valor da mediana (segundo quartil ou p50). A linha abaixo é o 1o quartil (p25) e a linha acima o terceiro quartil (p75). O boxplot ajuda a ter uma ideia da dispersão dos dataset e os possíveis outliers.\n",
        "\n",
        "*OBS: Se um ponto do dataset é muito distante da média (acima de 3 desvios padrão da média), pode ser considerado outlier.*\n",
        "\n",
        "Analisando, confirmamos os outliers observados na etapa de estatística descritiva no atributo \"absences\""
      ]
    },
    {
      "cell_type": "code",
      "execution_count": 16,
      "metadata": {
        "colab": {
          "base_uri": "https://localhost:8080/",
          "height": 747
        },
        "id": "R_rNJGQyUxnG",
        "outputId": "de70223c-9b93-45ba-b702-dd8a1b581f90"
      },
      "outputs": [
        {
          "output_type": "display_data",
          "data": {
            "image/png": "[encoded data removed]",
            "text/plain": [
              "<Figure size 1440x1080 with 16 Axes>"
            ]
          },
          "metadata": {
            "needs_background": "light"
          }
        }
      ],
      "source": [
        "# Boxplot\n",
        "data.plot(kind = 'box', subplots = True, layout = (4,4), sharex = False, sharey = False, figsize = (20,15))\n",
        "plt.show()"
      ]
    },
    {
      "cell_type": "markdown",
      "metadata": {
        "id": "vzwYrg6mciTJ"
      },
      "source": [
        "## 3.4. Visualizações Multimodais"
      ]
    },
    {
      "cell_type": "markdown",
      "metadata": {
        "id": "Mwb-mWbVcvLn"
      },
      "source": [
        "### Matriz de correlação\n",
        "Uma visualização gráfica para a correlação já observada anteriormente"
      ]
    },
    {
      "cell_type": "code",
      "execution_count": 17,
      "metadata": {
        "colab": {
          "base_uri": "https://localhost:8080/",
          "height": 319
        },
        "id": "CYQ3nqYEWELz",
        "outputId": "7597ff1a-21f1-4a7e-fd26-fa425c4231ad"
      },
      "outputs": [
        {
          "output_type": "display_data",
          "data": {
            "image/png": "[encoded data removed]",
            "text/plain": [
              "<Figure size 432x288 with 2 Axes>"
            ]
          },
          "metadata": {
            "needs_background": "light"
          }
        }
      ],
      "source": [
        "sns.heatmap(data.corr(), annot=False, cmap='RdBu');"
      ]
    },
    {
      "cell_type": "markdown",
      "metadata": {
        "id": "_mLOb5rfWTmP"
      },
      "source": [
        "### Scatter plot\n"
      ]
    },
    {
      "cell_type": "code",
      "execution_count": 18,
      "metadata": {
        "id": "ug6GOHIAdHCe"
      },
      "outputs": [],
      "source": [
        "# Scatter Plot com Seaborn\n",
        "sns.set()\n",
        "sns.pairplot(data, hue = \"class\", height = 2.5);"
      ]
    },
    {
      "cell_type": "markdown",
      "metadata": {
        "id": "vBZdKAjXuMX5"
      },
      "source": [
        "# Pré-Processamento dos Dados\n",
        "As atividades de **padronização** de **normalização**, que seriam realizadas nesta etapa, serão feitas no momento da construção dos modelos. Com o uso de pipelines, os dados serão padronizados e o modelo será construído para cada fold de teste de validação cruzada. Dessa forma, podemos obter uma estimativa justa de como cada modelo com dados padronizados pode funcionar com dados não vistos."
      ]
    },
    {
      "cell_type": "markdown",
      "metadata": {
        "id": "cS00-itKlzd_"
      },
      "source": [
        "## 4.1. Selecionando colunas\n",
        "As colunas G1, G2 e G3 serão deletadas, e apenas a coluna 'class', que indica se o aluno foi aprovado ou reprovado será mantida"
      ]
    },
    {
      "cell_type": "code",
      "execution_count": 19,
      "metadata": {
        "colab": {
          "base_uri": "https://localhost:8080/",
          "height": 270
        },
        "id": "tjaUHWqvufYZ",
        "outputId": "fa9fed19-c219-40fa-bb7a-b4d496c640c5"
      },
      "outputs": [
        {
          "output_type": "execute_result",
          "data": {
            "text/html": [
              "\n",
              "  <div id=\"df-41fe707c-faeb-46be-be5c-c166a39ee283\">\n",
              "    <div class=\"colab-df-container\">\n",
              "      <div>\n",
              "<style scoped>\n",
              "    .dataframe tbody tr th:only-of-type {\n",
              "        vertical-align: middle;\n",
              "    }\n",
              "\n",
              "    .dataframe tbody tr th {\n",
              "        vertical-align: top;\n",
              "    }\n",
              "\n",
              "    .dataframe thead th {\n",
              "        text-align: right;\n",
              "    }\n",
              "</style>\n",
              "<table border=\"1\" class=\"dataframe\">\n",
              "  <thead>\n",
              "    <tr style=\"text-align: right;\">\n",
              "      <th></th>\n",
              "      <th>school</th>\n",
              "      <th>sex</th>\n",
              "      <th>age</th>\n",
              "      <th>address</th>\n",
              "      <th>fam_size</th>\n",
              "      <th>parents_status</th>\n",
              "      <th>mother_edu</th>\n",
              "      <th>father_edu</th>\n",
              "      <th>mother_job</th>\n",
              "      <th>father_job</th>\n",
              "      <th>reason</th>\n",
              "      <th>guardian</th>\n",
              "      <th>travel_time</th>\n",
              "      <th>study_time</th>\n",
              "      <th>failures</th>\n",
              "      <th>school_sup</th>\n",
              "      <th>family_sup</th>\n",
              "      <th>paid</th>\n",
              "      <th>activities</th>\n",
              "      <th>nursery</th>\n",
              "      <th>higher</th>\n",
              "      <th>internet</th>\n",
              "      <th>romantic</th>\n",
              "      <th>family_rel</th>\n",
              "      <th>free_time</th>\n",
              "      <th>go_out</th>\n",
              "      <th>d_alcool</th>\n",
              "      <th>w_alcool</th>\n",
              "      <th>health</th>\n",
              "      <th>absences</th>\n",
              "      <th>class</th>\n",
              "    </tr>\n",
              "  </thead>\n",
              "  <tbody>\n",
              "    <tr>\n",
              "      <th>0</th>\n",
              "      <td>GP</td>\n",
              "      <td>F</td>\n",
              "      <td>18</td>\n",
              "      <td>U</td>\n",
              "      <td>GT3</td>\n",
              "      <td>A</td>\n",
              "      <td>4</td>\n",
              "      <td>4</td>\n",
              "      <td>at_home</td>\n",
              "      <td>teacher</td>\n",
              "      <td>course</td>\n",
              "      <td>mother</td>\n",
              "      <td>2</td>\n",
              "      <td>2</td>\n",
              "      <td>0</td>\n",
              "      <td>yes</td>\n",
              "      <td>no</td>\n",
              "      <td>no</td>\n",
              "      <td>no</td>\n",
              "      <td>yes</td>\n",
              "      <td>yes</td>\n",
              "      <td>no</td>\n",
              "      <td>no</td>\n",
              "      <td>4</td>\n",
              "      <td>3</td>\n",
              "      <td>4</td>\n",
              "      <td>1</td>\n",
              "      <td>1</td>\n",
              "      <td>3</td>\n",
              "      <td>6</td>\n",
              "      <td>fail</td>\n",
              "    </tr>\n",
              "    <tr>\n",
              "      <th>1</th>\n",
              "      <td>GP</td>\n",
              "      <td>F</td>\n",
              "      <td>17</td>\n",
              "      <td>U</td>\n",
              "      <td>GT3</td>\n",
              "      <td>T</td>\n",
              "      <td>1</td>\n",
              "      <td>1</td>\n",
              "      <td>at_home</td>\n",
              "      <td>other</td>\n",
              "      <td>course</td>\n",
              "      <td>father</td>\n",
              "      <td>1</td>\n",
              "      <td>2</td>\n",
              "      <td>0</td>\n",
              "      <td>no</td>\n",
              "      <td>yes</td>\n",
              "      <td>no</td>\n",
              "      <td>no</td>\n",
              "      <td>no</td>\n",
              "      <td>yes</td>\n",
              "      <td>yes</td>\n",
              "      <td>no</td>\n",
              "      <td>5</td>\n",
              "      <td>3</td>\n",
              "      <td>3</td>\n",
              "      <td>1</td>\n",
              "      <td>1</td>\n",
              "      <td>3</td>\n",
              "      <td>4</td>\n",
              "      <td>fail</td>\n",
              "    </tr>\n",
              "    <tr>\n",
              "      <th>2</th>\n",
              "      <td>GP</td>\n",
              "      <td>F</td>\n",
              "      <td>15</td>\n",
              "      <td>U</td>\n",
              "      <td>LE3</td>\n",
              "      <td>T</td>\n",
              "      <td>1</td>\n",
              "      <td>1</td>\n",
              "      <td>at_home</td>\n",
              "      <td>other</td>\n",
              "      <td>other</td>\n",
              "      <td>mother</td>\n",
              "      <td>1</td>\n",
              "      <td>2</td>\n",
              "      <td>3</td>\n",
              "      <td>yes</td>\n",
              "      <td>no</td>\n",
              "      <td>yes</td>\n",
              "      <td>no</td>\n",
              "      <td>yes</td>\n",
              "      <td>yes</td>\n",
              "      <td>yes</td>\n",
              "      <td>no</td>\n",
              "      <td>4</td>\n",
              "      <td>3</td>\n",
              "      <td>2</td>\n",
              "      <td>2</td>\n",
              "      <td>3</td>\n",
              "      <td>3</td>\n",
              "      <td>10</td>\n",
              "      <td>pass</td>\n",
              "    </tr>\n",
              "    <tr>\n",
              "      <th>3</th>\n",
              "      <td>GP</td>\n",
              "      <td>F</td>\n",
              "      <td>15</td>\n",
              "      <td>U</td>\n",
              "      <td>GT3</td>\n",
              "      <td>T</td>\n",
              "      <td>4</td>\n",
              "      <td>2</td>\n",
              "      <td>health</td>\n",
              "      <td>services</td>\n",
              "      <td>home</td>\n",
              "      <td>mother</td>\n",
              "      <td>1</td>\n",
              "      <td>3</td>\n",
              "      <td>0</td>\n",
              "      <td>no</td>\n",
              "      <td>yes</td>\n",
              "      <td>yes</td>\n",
              "      <td>yes</td>\n",
              "      <td>yes</td>\n",
              "      <td>yes</td>\n",
              "      <td>yes</td>\n",
              "      <td>yes</td>\n",
              "      <td>3</td>\n",
              "      <td>2</td>\n",
              "      <td>2</td>\n",
              "      <td>1</td>\n",
              "      <td>1</td>\n",
              "      <td>5</td>\n",
              "      <td>2</td>\n",
              "      <td>pass</td>\n",
              "    </tr>\n",
              "    <tr>\n",
              "      <th>4</th>\n",
              "      <td>GP</td>\n",
              "      <td>F</td>\n",
              "      <td>16</td>\n",
              "      <td>U</td>\n",
              "      <td>GT3</td>\n",
              "      <td>T</td>\n",
              "      <td>3</td>\n",
              "      <td>3</td>\n",
              "      <td>other</td>\n",
              "      <td>other</td>\n",
              "      <td>home</td>\n",
              "      <td>father</td>\n",
              "      <td>1</td>\n",
              "      <td>2</td>\n",
              "      <td>0</td>\n",
              "      <td>no</td>\n",
              "      <td>yes</td>\n",
              "      <td>yes</td>\n",
              "      <td>no</td>\n",
              "      <td>yes</td>\n",
              "      <td>yes</td>\n",
              "      <td>no</td>\n",
              "      <td>no</td>\n",
              "      <td>4</td>\n",
              "      <td>3</td>\n",
              "      <td>2</td>\n",
              "      <td>1</td>\n",
              "      <td>2</td>\n",
              "      <td>5</td>\n",
              "      <td>4</td>\n",
              "      <td>pass</td>\n",
              "    </tr>\n",
              "  </tbody>\n",
              "</table>\n",
              "</div>\n",
              "      <button class=\"colab-df-convert\" onclick=\"convertToInteractive('df-41fe707c-faeb-46be-be5c-c166a39ee283')\"\n",
              "              title=\"Convert this dataframe to an interactive table.\"\n",
              "              style=\"display:none;\">\n",
              "        \n",
              "  <svg xmlns=\"http://www.w3.org/2000/svg\" height=\"24px\"viewBox=\"0 0 24 24\"\n",
              "       width=\"24px\">\n",
              "    <path d=\"M0 0h24v24H0V0z\" fill=\"none\"/>\n",
              "    <path d=\"M18.56 5.44l.94 2.06.94-2.06 2.06-.94-2.06-.94-.94-2.06-.94 2.06-2.06.94zm-11 1L8.5 8.5l.94-2.06 2.06-.94-2.06-.94L8.5 2.5l-.94 2.06-2.06.94zm10 10l.94 2.06.94-2.06 2.06-.94-2.06-.94-.94-2.06-.94 2.06-2.06.94z\"/><path d=\"M17.41 7.96l-1.37-1.37c-.4-.4-.92-.59-1.43-.59-.52 0-1.04.2-1.43.59L10.3 9.45l-7.72 7.72c-.78.78-.78 2.05 0 2.83L4 21.41c.39.39.9.59 1.41.59.51 0 1.02-.2 1.41-.59l7.78-7.78 2.81-2.81c.8-.78.8-2.07 0-2.86zM5.41 20L4 18.59l7.72-7.72 1.47 1.35L5.41 20z\"/>\n",
              "  </svg>\n",
              "      </button>\n",
              "      \n",
              "  <style>\n",
              "    .colab-df-container {\n",
              "      display:flex;\n",
              "      flex-wrap:wrap;\n",
              "      gap: 12px;\n",
              "    }\n",
              "\n",
              "    .colab-df-convert {\n",
              "      background-color: #E8F0FE;\n",
              "      border: none;\n",
              "      border-radius: 50%;\n",
              "      cursor: pointer;\n",
              "      display: none;\n",
              "      fill: #1967D2;\n",
              "      height: 32px;\n",
              "      padding: 0 0 0 0;\n",
              "      width: 32px;\n",
              "    }\n",
              "\n",
              "    .colab-df-convert:hover {\n",
              "      background-color: #E2EBFA;\n",
              "      box-shadow: 0px 1px 2px rgba(60, 64, 67, 0.3), 0px 1px 3px 1px rgba(60, 64, 67, 0.15);\n",
              "      fill: #174EA6;\n",
              "    }\n",
              "\n",
              "    [theme=dark] .colab-df-convert {\n",
              "      background-color: #3B4455;\n",
              "      fill: #D2E3FC;\n",
              "    }\n",
              "\n",
              "    [theme=dark] .colab-df-convert:hover {\n",
              "      background-color: #434B5C;\n",
              "      box-shadow: 0px 1px 3px 1px rgba(0, 0, 0, 0.15);\n",
              "      filter: drop-shadow(0px 1px 2px rgba(0, 0, 0, 0.3));\n",
              "      fill: #FFFFFF;\n",
              "    }\n",
              "  </style>\n",
              "\n",
              "      <script>\n",
              "        const buttonEl =\n",
              "          document.querySelector('#df-41fe707c-faeb-46be-be5c-c166a39ee283 button.colab-df-convert');\n",
              "        buttonEl.style.display =\n",
              "          google.colab.kernel.accessAllowed ? 'block' : 'none';\n",
              "\n",
              "        async function convertToInteractive(key) {\n",
              "          const element = document.querySelector('#df-41fe707c-faeb-46be-be5c-c166a39ee283');\n",
              "          const dataTable =\n",
              "            await google.colab.kernel.invokeFunction('convertToInteractive',\n",
              "                                                     [key], {});\n",
              "          if (!dataTable) return;\n",
              "\n",
              "          const docLinkHtml = 'Like what you see? Visit the ' +\n",
              "            '<a target=\"_blank\" href=https://colab.research.google.com/notebooks/data_table.ipynb>data table notebook</a>'\n",
              "            + ' to learn more about interactive tables.';\n",
              "          element.innerHTML = '';\n",
              "          dataTable['output_type'] = 'display_data';\n",
              "          await google.colab.output.renderOutput(dataTable, element);\n",
              "          const docLink = document.createElement('div');\n",
              "          docLink.innerHTML = docLinkHtml;\n",
              "          element.appendChild(docLink);\n",
              "        }\n",
              "      </script>\n",
              "    </div>\n",
              "  </div>\n",
              "  "
            ],
            "text/plain": [
              "  school sex  age address fam_size parents_status  mother_edu  father_edu  \\\n",
              "0     GP   F   18       U      GT3              A           4           4   \n",
              "1     GP   F   17       U      GT3              T           1           1   \n",
              "2     GP   F   15       U      LE3              T           1           1   \n",
              "3     GP   F   15       U      GT3              T           4           2   \n",
              "4     GP   F   16       U      GT3              T           3           3   \n",
              "\n",
              "  mother_job father_job  reason guardian  travel_time  study_time  failures  \\\n",
              "0    at_home    teacher  course   mother            2           2         0   \n",
              "1    at_home      other  course   father            1           2         0   \n",
              "2    at_home      other   other   mother            1           2         3   \n",
              "3     health   services    home   mother            1           3         0   \n",
              "4      other      other    home   father            1           2         0   \n",
              "\n",
              "  school_sup family_sup paid activities nursery higher internet romantic  \\\n",
              "0        yes         no   no         no     yes    yes       no       no   \n",
              "1         no        yes   no         no      no    yes      yes       no   \n",
              "2        yes         no  yes         no     yes    yes      yes       no   \n",
              "3         no        yes  yes        yes     yes    yes      yes      yes   \n",
              "4         no        yes  yes         no     yes    yes       no       no   \n",
              "\n",
              "   family_rel  free_time  go_out  d_alcool  w_alcool  health  absences class  \n",
              "0           4          3       4         1         1       3         6  fail  \n",
              "1           5          3       3         1         1       3         4  fail  \n",
              "2           4          3       2         2         3       3        10  pass  \n",
              "3           3          2       2         1         1       5         2  pass  \n",
              "4           4          3       2         1         2       5         4  pass  "
            ]
          },
          "metadata": {},
          "execution_count": 19
        }
      ],
      "source": [
        "new_df = data.drop(['G1', 'G2', 'G3'], axis = 1, errors='ignore')\n",
        "new_df.head()"
      ]
    },
    {
      "cell_type": "markdown",
      "metadata": {
        "id": "k0UueBFRpN-s"
      },
      "source": [
        "## 4.2. Valores nulos e inválidos\n",
        "Conforme visto na análise exploratória, o dataset não tem valores nulos. Também não foram encontrados valores que podem ser considerados inválidos para algum atributo. "
      ]
    },
    {
      "cell_type": "markdown",
      "metadata": {
        "id": "oIrZZwXar2IL"
      },
      "source": [
        "## 4.3. Transformação dos dados categóricos\n",
        "Muitos algoritmos de aprendizado de máquina não podem operar diretamente com os dados categóricos, portanto, exigem que todas as variáveis de entrada e de saída sejam numéricas. Para isso será realizado o encoding das variáveis categóricas para numéricas."
      ]
    },
    {
      "cell_type": "markdown",
      "metadata": {
        "id": "w91hT32OtWMK"
      },
      "source": [
        "No caso das variáveis que tem uma ordenação natural, como 'fam_size', será usado a técnica de Ordinal Encoding, na qual cada valor da categoria é atribuído a um valor inteiro, mantendo uma ordenação."
      ]
    },
    {
      "cell_type": "code",
      "execution_count": 20,
      "metadata": {
        "colab": {
          "base_uri": "https://localhost:8080/"
        },
        "id": "XqijaXeHwBA_",
        "outputId": "8550ae11-24d6-4edd-b32d-04639da7ede3"
      },
      "outputs": [
        {
          "output_type": "stream",
          "name": "stdout",
          "text": [
            "  school sex  age address  fam_size parents_status  mother_edu  father_edu  \\\n",
            "0     GP   F   18       U       0.0              A           4           4   \n",
            "1     GP   F   17       U       0.0              T           1           1   \n",
            "2     GP   F   15       U       1.0              T           1           1   \n",
            "3     GP   F   15       U       0.0              T           4           2   \n",
            "4     GP   F   16       U       0.0              T           3           3   \n",
            "\n",
            "  mother_job father_job  reason guardian  travel_time  study_time  failures  \\\n",
            "0    at_home    teacher  course   mother            2           2         0   \n",
            "1    at_home      other  course   father            1           2         0   \n",
            "2    at_home      other   other   mother            1           2         3   \n",
            "3     health   services    home   mother            1           3         0   \n",
            "4      other      other    home   father            1           2         0   \n",
            "\n",
            "  school_sup family_sup paid activities nursery higher internet romantic  \\\n",
            "0        yes         no   no         no     yes    yes       no       no   \n",
            "1         no        yes   no         no      no    yes      yes       no   \n",
            "2        yes         no  yes         no     yes    yes      yes       no   \n",
            "3         no        yes  yes        yes     yes    yes      yes      yes   \n",
            "4         no        yes  yes         no     yes    yes       no       no   \n",
            "\n",
            "   family_rel  free_time  go_out  d_alcool  w_alcool  health  absences class  \n",
            "0           4          3       4         1         1       3         6  fail  \n",
            "1           5          3       3         1         1       3         4  fail  \n",
            "2           4          3       2         2         3       3        10  pass  \n",
            "3           3          2       2         1         1       5         2  pass  \n",
            "4           4          3       2         1         2       5         4  pass  \n"
          ]
        }
      ],
      "source": [
        "# define ordinal encoding\n",
        "ordinal_encoder = OrdinalEncoder()\n",
        "\n",
        "# transform data\n",
        "new_df[[\"fam_size\"]] = ordinal_encoder.fit_transform(new_df[[\"fam_size\"]])\n",
        "\n",
        "#print encoded df\n",
        "print(new_df.head(5))"
      ]
    },
    {
      "cell_type": "markdown",
      "metadata": {
        "id": "fry97sge3Vfr"
      },
      "source": [
        "Para as variáveis categóricas sem ordenação natural, uma codificação one-hot será aplicada. Assim, teremos uma coluna binária para cada categoria. "
      ]
    },
    {
      "cell_type": "code",
      "execution_count": 21,
      "metadata": {
        "colab": {
          "base_uri": "https://localhost:8080/"
        },
        "id": "Rbrp-oAc4Uuu",
        "outputId": "53479339-1950-4325-e8b0-cb4276231789"
      },
      "outputs": [
        {
          "output_type": "stream",
          "name": "stdout",
          "text": [
            "   school  sex  age  address  fam_size  parents_status  mother_edu  \\\n",
            "0     0.0  0.0   18      1.0       0.0             0.0           4   \n",
            "1     0.0  0.0   17      1.0       0.0             1.0           1   \n",
            "2     0.0  0.0   15      1.0       1.0             1.0           1   \n",
            "3     0.0  0.0   15      1.0       0.0             1.0           4   \n",
            "4     0.0  0.0   16      1.0       0.0             1.0           3   \n",
            "\n",
            "   father_edu  mother_job  father_job  reason  guardian  travel_time  \\\n",
            "0           4         0.0         4.0     0.0       1.0            2   \n",
            "1           1         0.0         2.0     0.0       0.0            1   \n",
            "2           1         0.0         2.0     2.0       1.0            1   \n",
            "3           2         1.0         3.0     1.0       1.0            1   \n",
            "4           3         2.0         2.0     1.0       0.0            1   \n",
            "\n",
            "   study_time  failures  school_sup  family_sup  paid  activities  nursery  \\\n",
            "0           2         0         1.0         0.0   0.0         0.0      1.0   \n",
            "1           2         0         0.0         1.0   0.0         0.0      0.0   \n",
            "2           2         3         1.0         0.0   1.0         0.0      1.0   \n",
            "3           3         0         0.0         1.0   1.0         1.0      1.0   \n",
            "4           2         0         0.0         1.0   1.0         0.0      1.0   \n",
            "\n",
            "   higher  internet  romantic  family_rel  free_time  go_out  d_alcool  \\\n",
            "0     1.0       0.0       0.0           4          3       4         1   \n",
            "1     1.0       1.0       0.0           5          3       3         1   \n",
            "2     1.0       1.0       0.0           4          3       2         2   \n",
            "3     1.0       1.0       1.0           3          2       2         1   \n",
            "4     1.0       0.0       0.0           4          3       2         1   \n",
            "\n",
            "   w_alcool  health  absences class  \n",
            "0         1       3         6  fail  \n",
            "1         1       3         4  fail  \n",
            "2         3       3        10  pass  \n",
            "3         1       5         2  pass  \n",
            "4         2       5         4  pass  \n"
          ]
        }
      ],
      "source": [
        "# creating instance of one-hot-encoder\n",
        "one_hot_encoder = OneHotEncoder()\n",
        "\n",
        "# transform data\n",
        "new_df[[\"school\",\"sex\",\"address\",\"parents_status\",\"mother_job\",\"father_job\",\n",
        "        \"reason\",\"guardian\",\"school_sup\",\"family_sup\",\"paid\",\"activities\",\"nursery\",\n",
        "        \"higher\",\"internet\",\"romantic\"]] = ordinal_encoder.fit_transform(new_df[[\"school\",\"sex\",\n",
        "        \"address\",\"parents_status\",\"mother_job\",\"father_job\",\"reason\",\"guardian\",\n",
        "        \"school_sup\",\"family_sup\",\"paid\",\"activities\",\"nursery\",\"higher\",\"internet\",\"romantic\"]])\n",
        "\n",
        "#print encoded df\n",
        "print(new_df.head(5))\n"
      ]
    },
    {
      "cell_type": "markdown",
      "metadata": {
        "id": "sMEXCxHyC0Qy"
      },
      "source": [
        "## 4.4. Separação em conjunto de treino e conjunto de teste\n",
        "Primeiro, 10 instâncias serão separada para a etapa final de aplicar o modelo escolhido em dados ainda não vistos.\n",
        "\n",
        "Em seguida, 70% do dataset será separado como conjunto de treino e 30% para teste, usando a estratégia train-test-split"
      ]
    },
    {
      "cell_type": "code",
      "execution_count": 22,
      "metadata": {
        "colab": {
          "base_uri": "https://localhost:8080/"
        },
        "id": "LPbbr2MRH5oX",
        "outputId": "f4fc24c2-439c-4eea-cf4a-ebc74bc1f22b"
      },
      "outputs": [
        {
          "output_type": "execute_result",
          "data": {
            "text/plain": [
              "class\n",
              "fail    125\n",
              "pass    260\n",
              "Name: class, dtype: int64"
            ]
          },
          "metadata": {},
          "execution_count": 22
        }
      ],
      "source": [
        "# 1 - pega 5 linhas aleatorias com a classe 'pass'\n",
        "pass_idx = new_df[new_df['class']==\"pass\"].sample(n=5, random_state=7).index\n",
        "pass_sample = new_df.take(pass_idx, axis=0)\n",
        "\n",
        "# 2 - pega 5 linhas aleatorias com a classe 'fail'\n",
        "fail_idx = new_df[new_df['class']==\"fail\"].sample(n=5, random_state=7).index\n",
        "fail_sample = new_df.take(fail_idx, axis=0)\n",
        "\n",
        "# 3 - concatena as amostras de 'fail'  e 'pass'\n",
        "final_sample = pd.concat([pass_sample, fail_sample], axis=0)\n",
        "\n",
        "# deleta as linhas do sample do dataset original\n",
        "idx = np.concatenate((pass_idx.values, fail_idx.values), axis=0)\n",
        "df = new_df.drop(idx, axis=0, errors='ignore')\n",
        "\n",
        "final_sample.drop(['class'], axis = 1, errors='ignore', inplace=True)\n",
        "df['class'].groupby(df['class']).count()"
      ]
    },
    {
      "cell_type": "code",
      "execution_count": 23,
      "metadata": {
        "colab": {
          "base_uri": "https://localhost:8080/"
        },
        "id": "3Z3iiOXd3iuN",
        "outputId": "74d5c561-c668-4998-b5ba-2ca9b5d3f533"
      },
      "outputs": [
        {
          "output_type": "stream",
          "name": "stdout",
          "text": [
            "Training sample: Counter({'pass': 177, 'fail': 92})\n",
            "Testing sample: Counter({'pass': 83, 'fail': 33})\n"
          ]
        }
      ],
      "source": [
        "# separando os atributos e a classe do dataset\n",
        "array = df.values\n",
        "X = array[:,0:29].astype(float)\n",
        "Y = array[:,30]\n",
        "\n",
        "# tamanho do conjunto de teste\n",
        "test_size = 0.30 \n",
        "\n",
        "# A semente (seed) que garante que os resultados possam ser reproduzidos de forma idêntica toda vez que o script for rodado. \n",
        "seed = 7\n",
        "\n",
        "# particionando em conjuntos de treino e teste\n",
        "X_train, X_test, Y_train, Y_test = train_test_split(X, Y, test_size=test_size, random_state=seed)\n",
        "\n",
        "print(f\"Training sample: {Counter(Y_train)}\")\n",
        "print(f\"Testing sample: {Counter(Y_test)}\")"
      ]
    },
    {
      "cell_type": "markdown",
      "metadata": {
        "id": "FcoCriRo-WZE"
      },
      "source": [
        "##4.5. Balanceamento do dataset\n",
        "\n",
        "Como vimos anteriormente, as classes do dataset estão desbalanceadas. Por isso, será realizado o balanceamento por oversampling, que consiste em adicionar instância da classe em menor quantidade até  igualar ao número de instâncias da classe em maior quantidade."
      ]
    },
    {
      "cell_type": "code",
      "execution_count": 24,
      "metadata": {
        "colab": {
          "base_uri": "https://localhost:8080/"
        },
        "id": "vnxadR5EqnQ2",
        "outputId": "938a52c0-1b19-49cf-f871-472575005067"
      },
      "outputs": [
        {
          "output_type": "stream",
          "name": "stdout",
          "text": [
            "Training sample: Counter({'fail': 177, 'pass': 177})\n"
          ]
        }
      ],
      "source": [
        "over_sampler = RandomOverSampler(random_state=seed)\n",
        "X_res, y_res = over_sampler.fit_resample(X_train, Y_train)\n",
        "\n",
        "print(f\"Training sample: {Counter(y_res)}\")"
      ]
    },
    {
      "cell_type": "markdown",
      "metadata": {
        "id": "7B-riN8drw-a"
      },
      "source": [
        "# Modelos de Classificação\n",
        "\n",
        "Será usada a validação cruzada 10-fold. Os modelos serão avaliados usando a métrica de acurácia.\n",
        "\n",
        "Os modelos utilizados serão: Regressão Logística, Árvores de classificação (CART), Máquinas de vetores de suporte (SVM), Naive Bayes (NB) e K-vizinhos mais próximos (KNN)."
      ]
    },
    {
      "cell_type": "code",
      "execution_count": 25,
      "metadata": {
        "id": "oEgqto86s1v2"
      },
      "outputs": [],
      "source": [
        "# Configurando os parâmetros de número de folds e métrica de avaliação\n",
        "num_folds = 10\n",
        "scoring = 'accuracy'"
      ]
    },
    {
      "cell_type": "code",
      "execution_count": 26,
      "metadata": {
        "id": "WFBd7M-PtggL"
      },
      "outputs": [],
      "source": [
        "# Criação dos modelos\n",
        "models = []\n",
        "models.append(('LR', LogisticRegression(solver='liblinear'))) \n",
        "models.append(('KNN', KNeighborsClassifier())) \n",
        "models.append(('CART', DecisionTreeClassifier())) \n",
        "models.append(('NB', GaussianNB()))\n",
        "models.append(('SVM', SVC(gamma='auto')))"
      ]
    },
    {
      "cell_type": "code",
      "execution_count": 27,
      "metadata": {
        "colab": {
          "base_uri": "https://localhost:8080/"
        },
        "id": "vUUqbS2fBQrd",
        "outputId": "9c53d219-1733-4bf6-dc84-8de9a22e3ce0"
      },
      "outputs": [
        {
          "output_type": "stream",
          "name": "stdout",
          "text": [
            "LR: 0.709687 (0.121392)\n",
            "KNN: 0.627778 (0.109385)\n",
            "CART: 0.572222 (0.113689)\n",
            "NB: 0.690883 (0.110930)\n",
            "SVM: 0.694872 (0.063200)\n",
            "\n"
          ]
        }
      ],
      "source": [
        "np.random.seed(7) # definindo uma semente global\n",
        "\n",
        "# Avaliação dos modelos\n",
        "results = []\n",
        "names = []\n",
        "final_message = ''\n",
        "\n",
        "for name, model in models:\n",
        "  kfold = KFold(n_splits=num_folds)\n",
        "  cv_results = cross_val_score(model, X_train, Y_train, cv=kfold, scoring=scoring)\n",
        "  results.append(cv_results)\n",
        "  names.append(name)\n",
        "  msg = \"%s: %f (%f)\" % (name, cv_results.mean(), cv_results.std())\n",
        "  final_message += msg + '\\n'\n",
        "\n",
        "print(final_message)"
      ]
    },
    {
      "cell_type": "markdown",
      "metadata": {
        "id": "JI_BTKRlCP1b"
      },
      "source": [
        "De acordo com os valores médios de acurácia observados, a Regressão Logística pode ser um bom modelo, seguida do SVM e do Naive Bayes, com resultados um pouco inferiores.\n",
        "Para observar a distribuição dos resultados de cada fold da validação cruzada, serão usados boxplots."
      ]
    },
    {
      "cell_type": "code",
      "execution_count": 28,
      "metadata": {
        "colab": {
          "base_uri": "https://localhost:8080/",
          "height": 294
        },
        "id": "KUQvttrIBQ3r",
        "outputId": "ed1041a5-ac44-4ea7-d6ca-955262b5bbba"
      },
      "outputs": [
        {
          "output_type": "display_data",
          "data": {
            "image/png": "[encoded data removed]",
            "text/plain": [
              "<Figure size 432x288 with 1 Axes>"
            ]
          },
          "metadata": {
            "needs_background": "light"
          }
        }
      ],
      "source": [
        "# Comparação dos modelos\n",
        "fig = plt.figure() \n",
        "fig.suptitle('Comparação dos Modelos') \n",
        "ax = fig.add_subplot(111) \n",
        "plt.boxplot(results) \n",
        "ax.set_xticklabels(names) \n",
        "plt.show()"
      ]
    },
    {
      "cell_type": "markdown",
      "metadata": {
        "id": "QnbjGH_6Hy0h"
      },
      "source": [
        "Observa-se que o a Árvore de Decisão (CART), junto com o KNN possuem as piores medianas. A a Regressão Logística tem a melhor mediana, seguida do SVM. Já o Naive Bayes, aparece com a terceira melhor mediana."
      ]
    },
    {
      "cell_type": "markdown",
      "metadata": {
        "id": "eNJjjfG7sX3B"
      },
      "source": [
        "## 5.1. Modelos com dados padronizados\n",
        "Para mitigar a possibilidade de as distribuições dos dados brutos estarem possam impactar negativamente a habilidade de alguns modelos, os dados serão padronizados. Assim, os dados serão transformados de modo que cada atributo tenha média 0 e um desvio padrão 1. "
      ]
    },
    {
      "cell_type": "code",
      "execution_count": 29,
      "metadata": {
        "colab": {
          "base_uri": "https://localhost:8080/"
        },
        "id": "Vv1xxS-iJNcB",
        "outputId": "3e572fdc-34b6-4623-eee9-092712ee73fd"
      },
      "outputs": [
        {
          "output_type": "stream",
          "name": "stdout",
          "text": [
            "ScaledLR: 0.705840 (0.115757)\n",
            "ScaledKNN: 0.624359 (0.059516)\n",
            "ScaledCART: 0.572222 (0.113689)\n",
            "ScaledNB: 0.690883 (0.110930)\n",
            "ScaledSVM: 0.709544 (0.088012)\n",
            "\n"
          ]
        }
      ],
      "source": [
        "np.random.seed(7) # definindo uma semente global\n",
        "\n",
        "# Padronização do dataset\n",
        "pipelines = []\n",
        "pipelines.append(('ScaledLR', Pipeline([('Scaler', StandardScaler()),('LR', LogisticRegression(solver='liblinear'))]))) \n",
        "pipelines.append(('ScaledKNN', Pipeline([('Scaler', StandardScaler()),('KNN', KNeighborsClassifier())])))\n",
        "pipelines.append(('ScaledCART', Pipeline([('Scaler', StandardScaler()),('CART', DecisionTreeClassifier())])))\n",
        "pipelines.append(('ScaledNB', Pipeline([('Scaler', StandardScaler()),('NB', GaussianNB())])))\n",
        "pipelines.append(('ScaledSVM', Pipeline([('Scaler', StandardScaler()),('SVM', SVC(gamma='auto'))])))\n",
        "results = []\n",
        "names = []\n",
        "\n",
        "sandard_final_message = ''\n",
        "\n",
        "for name, model in pipelines:\n",
        "  kfold = KFold(n_splits=num_folds)\n",
        "  cv_results = cross_val_score(model, X_train, Y_train, cv=kfold, scoring=scoring)\n",
        "  results.append(cv_results)\n",
        "  names.append(name)\n",
        "  msg = \"%s: %f (%f)\" % (name, cv_results.mean(), cv_results.std()) \n",
        "  sandard_final_message += msg + '\\n'\n",
        "\n",
        "print(sandard_final_message)"
      ]
    },
    {
      "cell_type": "markdown",
      "metadata": {
        "id": "8Cw0aoTuzVIh"
      },
      "source": [
        "Ao comparar os resultados, observa-se que a padronização foi vantajosa para o SVM. Sendo assim, Regressão logística e SVM continuam com os melhores resultados alcançados"
      ]
    },
    {
      "cell_type": "code",
      "execution_count": 30,
      "metadata": {
        "colab": {
          "base_uri": "https://localhost:8080/"
        },
        "id": "4e2KVZXa2amj",
        "outputId": "433e61f2-562d-4997-edb7-39a4374028ca"
      },
      "outputs": [
        {
          "output_type": "stream",
          "name": "stdout",
          "text": [
            "+---------------------------+---------------------------------+\n",
            "|       Modelo Simples      |  Modelo com dados padronizados  |\n",
            "+---------------------------+---------------------------------+\n",
            "|  LR: 0.709687 (0.121392)  |  ScaledLR: 0.705840 (0.115757)  |\n",
            "|  KNN: 0.627778 (0.109385) |  ScaledKNN: 0.624359 (0.059516) |\n",
            "| CART: 0.572222 (0.113689) | ScaledCART: 0.572222 (0.113689) |\n",
            "|  NB: 0.690883 (0.110930)  |  ScaledNB: 0.690883 (0.110930)  |\n",
            "|  SVM: 0.694872 (0.063200) |  ScaledSVM: 0.709544 (0.088012) |\n",
            "|                           |                                 |\n",
            "+---------------------------+---------------------------------+\n"
          ]
        }
      ],
      "source": [
        "# Imprimindo tabela comparativa de modelos\n",
        "models_table = PrettyTable()\n",
        "models_table.hrules = 1\n",
        "\n",
        "models_table.field_names = ('Modelo Simples', 'Modelo com dados padronizados')\n",
        "models_table.add_rows([[final_message, sandard_final_message]])\n",
        "\n",
        "print(models_table)"
      ]
    },
    {
      "cell_type": "markdown",
      "metadata": {
        "id": "duvR-ATe4Xfs"
      },
      "source": [
        "Analise gráfica dos modelos com dados pasronizados:"
      ]
    },
    {
      "cell_type": "code",
      "execution_count": 31,
      "metadata": {
        "colab": {
          "base_uri": "https://localhost:8080/",
          "height": 294
        },
        "id": "1St4saOK4WkB",
        "outputId": "626a8f50-d5ac-4218-bce9-f3729ba020fc"
      },
      "outputs": [
        {
          "output_type": "display_data",
          "data": {
            "image/png": "[encoded data removed]",
            "text/plain": [
              "<Figure size 432x288 with 1 Axes>"
            ]
          },
          "metadata": {
            "needs_background": "light"
          }
        }
      ],
      "source": [
        "# Comparação dos modelos com dados padronizados\n",
        "fig = plt.figure()\n",
        "fig.suptitle('Comparação dos modelos com dados padronizados') \n",
        "ax = fig.add_subplot(111) \n",
        "plt.boxplot(results) \n",
        "ax.set_xticklabels(names)\n",
        "plt.show()"
      ]
    },
    {
      "cell_type": "markdown",
      "metadata": {
        "id": "umHrMeA1r006"
      },
      "source": [
        "## 5.2. Modelos com dados normalizados\n"
      ]
    },
    {
      "cell_type": "code",
      "execution_count": 32,
      "metadata": {
        "colab": {
          "base_uri": "https://localhost:8080/"
        },
        "id": "Y0U1GQB--3th",
        "outputId": "03937544-45b9-4b6c-8442-7fb96e8320fa"
      },
      "outputs": [
        {
          "output_type": "stream",
          "name": "stdout",
          "text": [
            "ScaledMinMaxLR: 0.705983 (0.089694)\n",
            "ScaledMinMaxKNN: 0.650142 (0.094420)\n",
            "ScaledMinMaxCART: 0.572222 (0.113689)\n",
            "ScaledMinMaxNB: 0.690883 (0.110930)\n",
            "ScaledMinMaxSVM: 0.657977 (0.039837)\n",
            "\n"
          ]
        }
      ],
      "source": [
        "np.random.seed(7) # definindo uma semente global\n",
        "\n",
        "# Normalização do dataset\n",
        "pipelines = []\n",
        "pipelines.append(('ScaledMinMaxLR', Pipeline([('Scaler', MinMaxScaler()),('LR', LogisticRegression(solver='liblinear'))]))) \n",
        "pipelines.append(('ScaledMinMaxKNN', Pipeline([('Scaler', MinMaxScaler()),('KNN', KNeighborsClassifier())])))\n",
        "pipelines.append(('ScaledMinMaxCART', Pipeline([('Scaler', MinMaxScaler()),('CART', DecisionTreeClassifier())])))\n",
        "pipelines.append(('ScaledMinMaxNB', Pipeline([('Scaler', MinMaxScaler()),('NB', GaussianNB())])))\n",
        "pipelines.append(('ScaledMinMaxSVM', Pipeline([('Scaler', MinMaxScaler()),('SVM', SVC(gamma='auto'))])))\n",
        "results = []\n",
        "names = []\n",
        "normalized_models_message = ''\n",
        "\n",
        "for name, model in pipelines:\n",
        "  kfold = KFold(n_splits=num_folds)\n",
        "  cv_results = cross_val_score(model, X_train, Y_train, cv=kfold, scoring=scoring)\n",
        "  results.append(cv_results)\n",
        "  names.append(name)\n",
        "  msg = \"%s: %f (%f)\" % (name, cv_results.mean(), cv_results.std())\n",
        "  normalized_models_message += msg + '\\n'\n",
        "  \n",
        "print(normalized_models_message)"
      ]
    },
    {
      "cell_type": "markdown",
      "metadata": {
        "id": "R1LGvwyCGwnW"
      },
      "source": [
        "Observa-se que a normalização dos dados, diminuiu consideravelmente o resultado do SVM."
      ]
    },
    {
      "cell_type": "code",
      "execution_count": 33,
      "metadata": {
        "colab": {
          "base_uri": "https://localhost:8080/"
        },
        "id": "qOrv8_br_4zn",
        "outputId": "af7b4b6c-700c-4eaa-c258-3aae401f0be8"
      },
      "outputs": [
        {
          "output_type": "stream",
          "name": "stdout",
          "text": [
            "+---------------------------+---------------------------------+---------------------------------------+\n",
            "|       Modelo Simples      |  Modelo com dados padronizados  |     Modelos com dados normalizados    |\n",
            "+---------------------------+---------------------------------+---------------------------------------+\n",
            "|  LR: 0.709687 (0.121392)  |  ScaledLR: 0.705840 (0.115757)  |  ScaledMinMaxLR: 0.705983 (0.089694)  |\n",
            "|  KNN: 0.627778 (0.109385) |  ScaledKNN: 0.624359 (0.059516) |  ScaledMinMaxKNN: 0.650142 (0.094420) |\n",
            "| CART: 0.572222 (0.113689) | ScaledCART: 0.572222 (0.113689) | ScaledMinMaxCART: 0.572222 (0.113689) |\n",
            "|  NB: 0.690883 (0.110930)  |  ScaledNB: 0.690883 (0.110930)  |  ScaledMinMaxNB: 0.690883 (0.110930)  |\n",
            "|  SVM: 0.694872 (0.063200) |  ScaledSVM: 0.709544 (0.088012) |  ScaledMinMaxSVM: 0.657977 (0.039837) |\n",
            "|                           |                                 |                                       |\n",
            "+---------------------------+---------------------------------+---------------------------------------+\n"
          ]
        }
      ],
      "source": [
        "# Imprimindo tabela comparativa de modelos\n",
        "\n",
        "# Não executar o comando de add_column múltiplas vezes, pois a cada execução \n",
        "#será adicionada uma nova coluna de dados normalizados\n",
        "\n",
        "models_table.add_column('Modelos com dados normalizados', [normalized_models_message])\n",
        "print(models_table)"
      ]
    },
    {
      "cell_type": "markdown",
      "metadata": {
        "id": "V5jmofnkHXUO"
      },
      "source": [
        "## 5.3. Ajuste dos Modelos\n",
        "Será feita uma tentativa de explorar outras configurações dos modelos SVM e KNN, através da variação hiperparâmetros, para verificar se essas configurações podem gerar resultados ainda melhores que os observados anteriormente."
      ]
    },
    {
      "cell_type": "markdown",
      "metadata": {
        "id": "hkbb8KWbOFas"
      },
      "source": [
        "### Ajuste do KNN\n",
        "\n",
        "Vamos usar o conjunto de dados normalizados, por ter apresentado os melhores resultados para o KNN nas avaliações anteriores.\n",
        "\n",
        "Serão ajustados os parâmetros número de vizinhos, as métricas de distância para o KNN e o algorítmo usado para calcular os vizinhos mais próximos. \n",
        "\n",
        "* Para os n vizinhos, serão testados todos os valores de k entre 1 a 50; \n",
        "* Para as métricas de distância, serão testadas a métrica euclidiana, manhattan e minkowski;\n",
        "* Para o algoritmo, serão testados auto, ball_tree, kd_tree, brute\n",
        "\n"
      ]
    },
    {
      "cell_type": "code",
      "execution_count": 34,
      "metadata": {
        "colab": {
          "base_uri": "https://localhost:8080/"
        },
        "id": "ybheZAhCOiKv",
        "outputId": "3164da05-7d61-4095-f701-e62c148b0a83"
      },
      "outputs": [
        {
          "output_type": "stream",
          "name": "stdout",
          "text": [
            "Melhor: 0.695157 usando {'knn__algorithm': 'auto', 'knn__metric': 'euclidean', 'knn__n_neighbors': 26}\n"
          ]
        }
      ],
      "source": [
        "np.random.seed(7) # semente global\n",
        "kfold = KFold(n_splits=num_folds)\n",
        "\n",
        "# Lista de hyperparâmetros a serem tunados\n",
        "\n",
        "n_neighbors = list(range(1,50))\n",
        "metric = [\"euclidean\", \"manhattan\", \"minkowski\"] # todos os valores válidos\n",
        "algorithm = ['auto', 'ball_tree', 'kd_tree', 'brute'] # todos os valores válidos\n",
        "\n",
        "param_grid = {\n",
        "    'knn__n_neighbors': n_neighbors,\n",
        "    'knn__metric': metric,\n",
        "    'knn__algorithm': algorithm\n",
        "}\n",
        "pipeline = Pipeline(steps=[('Scaler', MinMaxScaler()), ('knn', KNeighborsClassifier())])\n",
        "grid2 = GridSearchCV(estimator=pipeline, param_grid=param_grid, scoring=scoring, cv=kfold)\n",
        "\n",
        "grid2.fit(X_train, Y_train)\n",
        "\n",
        "print(\"Melhor: %f usando %s\" % (grid2.best_score_, grid2.best_params_))"
      ]
    },
    {
      "cell_type": "markdown",
      "metadata": {
        "id": "0sw0QU_4kJol"
      },
      "source": [
        "Observa-se que houve uma melhora expressiva no resultado do KNN, mas ainda com resultado inferior aos melhores resultados encontrados nas etapas enteriores com outros algoritmos."
      ]
    },
    {
      "cell_type": "markdown",
      "metadata": {
        "id": "JFhy-staCmo8"
      },
      "source": [
        "### Ajuste do SVM\n",
        "Para o SVM, vamos usar o conjunto de dados padronizados, por ter apresentado os melhores resultados nas avaliações anteriores.\n",
        "\n",
        "Serão ajustados os parâmetros C, kernel e gamma."
      ]
    },
    {
      "cell_type": "code",
      "execution_count": 35,
      "metadata": {
        "colab": {
          "base_uri": "https://localhost:8080/"
        },
        "id": "XY_hX-eZlYTW",
        "outputId": "0f200a09-3e15-442c-9c3d-998aac10296f"
      },
      "outputs": [
        {
          "output_type": "stream",
          "name": "stdout",
          "text": [
            "dict_keys(['C', 'break_ties', 'cache_size', 'class_weight', 'coef0', 'decision_function_shape', 'degree', 'gamma', 'kernel', 'max_iter', 'probability', 'random_state', 'shrinking', 'tol', 'verbose'])\n",
            "Melhor: 0.705840 usando {'svc__C': 0.1, 'svc__gamma': 1, 'svc__kernel': 'linear'}\n"
          ]
        }
      ],
      "source": [
        "np.random.seed(7) # semente global\n",
        "kfold = KFold(n_splits=num_folds)\n",
        "\n",
        "# Tuning do SVM\n",
        "pipeline = Pipeline(steps=[('Scaler', StandardScaler()), ('svc', SVC(gamma='auto'))])\n",
        "\n",
        "print(SVC().get_params().keys())\n",
        "param_grid_svc = {\n",
        "    'svc__C': [0.1, 0.3, 0.5, 0.7, 0.9, 1.0, 1.3, 1.5, 1.7, 2.0],\n",
        "    'svc__kernel': ['linear', 'poly', 'rbf', 'sigmoid'],\n",
        "    'svc__gamma': [1, 0.1, 0.01, 0.001, 0.0001]\n",
        "}\n",
        "\n",
        "grid = GridSearchCV(estimator=pipeline, param_grid=param_grid_svc, scoring=scoring, cv=kfold)\n",
        "grid_result = grid.fit(X_train, Y_train)\n",
        "\n",
        "print(\"Melhor: %f usando %s\" % (grid_result.best_score_, grid_result.best_params_)) "
      ]
    },
    {
      "cell_type": "markdown",
      "metadata": {
        "id": "2A5RSjQZqLbK"
      },
      "source": [
        "Nota-se que mesmo com a variação de parâmetros, não é possível ultrapassar a taxa de acertos em 0.71"
      ]
    },
    {
      "cell_type": "markdown",
      "metadata": {
        "id": "FaJduzYSqeEe"
      },
      "source": [
        "## Finalização do Modelo\n",
        "\n",
        "Até aqui, verificamos que a regressão logística foi o modelo que mostrou melhor acurácia para o problema. \n",
        "O modelo será finalizado, treinando-o em todo o conjunto de dados de treinamento (sem validação cruzada) e faremos predições para o conjunto de dados de teste que foi separado logo no início do exemplo, a fim de confirmarmos nossas descobertas.\n"
      ]
    },
    {
      "cell_type": "code",
      "execution_count": 36,
      "metadata": {
        "colab": {
          "base_uri": "https://localhost:8080/"
        },
        "id": "O8K4y2zTrcxX",
        "outputId": "5dea281f-4661-464c-c91f-dae218282774"
      },
      "outputs": [
        {
          "output_type": "stream",
          "name": "stdout",
          "text": [
            "0.6637931034482759\n",
            "[[ 7 26]\n",
            " [13 70]]\n",
            "              precision    recall  f1-score   support\n",
            "\n",
            "        fail       0.35      0.21      0.26        33\n",
            "        pass       0.73      0.84      0.78        83\n",
            "\n",
            "    accuracy                           0.66       116\n",
            "   macro avg       0.54      0.53      0.52       116\n",
            "weighted avg       0.62      0.66      0.63       116\n",
            "\n"
          ]
        }
      ],
      "source": [
        "model = LogisticRegression(solver='liblinear')\n",
        "model.fit(X_train, Y_train)\n",
        "\n",
        "# Estimativa da acurácia no conjunto de teste\n",
        "predictions = model.predict(X_test)\n",
        "\n",
        "print(accuracy_score(Y_test, predictions))\n",
        "print(confusion_matrix(Y_test, predictions))\n",
        "print(classification_report(Y_test, predictions))"
      ]
    },
    {
      "cell_type": "markdown",
      "metadata": {
        "id": "_7-qTZutssfT"
      },
      "source": [
        "Por meio do conjunto de teste, verificamos que alcançamos uma acurácia de 66% em dados não vistos. Este resultado foi consideravelmente inferior as expectativas, pois durante os experientos obtivemos uma acurácia estimada de 71%. Valores semelhantes são esperados quando este modelo estiver executando em produção e fazendo predições para novos dados."
      ]
    },
    {
      "cell_type": "markdown",
      "metadata": {
        "id": "KXVTpJ3WtGul"
      },
      "source": [
        "Treinando o modelo com todo o dataset:"
      ]
    },
    {
      "cell_type": "code",
      "execution_count": 37,
      "metadata": {
        "colab": {
          "base_uri": "https://localhost:8080/"
        },
        "id": "4TJNvyTwtP3M",
        "outputId": "40c01cbc-d753-4731-adeb-296e3b58bd6c"
      },
      "outputs": [
        {
          "output_type": "execute_result",
          "data": {
            "text/plain": [
              "LogisticRegression(solver='liblinear')"
            ]
          },
          "metadata": {},
          "execution_count": 37
        }
      ],
      "source": [
        "# Preparação do modelo com TODO o dataset (e não apenas a base de treino)\n",
        "model = LogisticRegression(solver='liblinear')\n",
        "model.fit(X, Y)"
      ]
    },
    {
      "cell_type": "markdown",
      "metadata": {
        "id": "WF7FNzrttv50"
      },
      "source": [
        "## Aplicando o modelo em dados não vistos"
      ]
    },
    {
      "cell_type": "markdown",
      "metadata": {
        "id": "P0IlIBFHt2WJ"
      },
      "source": [
        "No início do trabalho foram separadas 10 instâncias ainda não conhecidas pelo modelo, sem a classe de saída. \n",
        "Testando o modelo com essas novas instâncias:"
      ]
    },
    {
      "cell_type": "code",
      "execution_count": 38,
      "metadata": {
        "colab": {
          "base_uri": "https://localhost:8080/"
        },
        "id": "vp1nAFJmvBVL",
        "outputId": "56f5e96b-917a-467f-9e36-fb383bb77454"
      },
      "outputs": [
        {
          "output_type": "stream",
          "name": "stdout",
          "text": [
            "['pass' 'pass' 'pass' 'pass' 'pass' 'pass' 'fail' 'fail' 'pass' 'pass']\n"
          ]
        }
      ],
      "source": [
        "entrada = final_sample.values\n",
        "X_entrada = entrada[:,0:29].astype(float)\n",
        "\n",
        "# Estimativa de classes dos dados de entrada\n",
        "saidas = model.predict(X_entrada)\n",
        "print(saidas)"
      ]
    }
  ],
  "metadata": {
    "colab": {
      "collapsed_sections": [
        "YNIMvHteldiX",
        "pzvixg6XP-1M",
        "ObpRN23SaPat",
        "c2kGVFBQe-8y",
        "gMqkniG-hF_Q",
        "gDOzA58qXJ2N",
        "k0UueBFRpN-s"
      ],
      "name": "Trab_ES_para_CD_Daiane.ipynb",
      "provenance": [],
      "include_colab_link": true
    },
    "kernelspec": {
      "display_name": "Python 3",
      "name": "python3"
    }
  },
  "nbformat": 4,
  "nbformat_minor": 0
}